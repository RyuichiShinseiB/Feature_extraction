{
 "cells": [
  {
   "cell_type": "code",
   "execution_count": 1,
   "metadata": {},
   "outputs": [],
   "source": [
    "import os\n",
    "\n",
    "import numpy as np\n",
    "import polars as pl\n",
    "\n",
    "import joblib\n",
    "import matplotlib\n",
    "import matplotlib.pyplot as plt\n",
    "from matplotlib import cm\n",
    "from PIL import Image\n",
    "from pathlib import Path\n",
    "\n",
    "from sklearn.preprocessing import StandardScaler\n",
    "from sklearn.mixture import BayesianGaussianMixture\n",
    "from sklearn.decomposition import PCA\n",
    "\n",
    "from scipy.stats import rankdata\n"
   ]
  },
  {
   "cell_type": "code",
   "execution_count": 2,
   "metadata": {},
   "outputs": [],
   "source": [
    "def scatter_each_classes(data, class_labels, rank, markers, colors, xylabel, facecolor='valid', scatter_classe=(None,)):\n",
    "    labels = scatter_classe if not (None in scatter_classe) else np.unique(class_labels)\n",
    "    markers = markers if markers is not None else ['o'] * np.unique(class_labels).shape[0]\n",
    "    colors = [plt.get_cmap('tab10')(i) for i in range(10)] if colors == 'tab10' else colors\n",
    "    print(markers)\n",
    "    \n",
    "    if isinstance(colors, matplotlib.colors.LinearSegmentedColormap):\n",
    "        for l, r in zip(labels, rank):\n",
    "            if (facecolor == 'None') and (markers[l] != 'x'):\n",
    "                plt.scatter(data[class_labels==l, 0], data[class_labels==l, 1], edgecolors=colors(l / len(labels)), label=f'cluster{l}', marker=markers[l], facecolor=facecolor, zorder=r)\n",
    "            else:\n",
    "                plt.scatter(data[class_labels==l, 0], data[class_labels==l, 1], c=colors(l / len(labels)), label=f'cluster{l}', marker=markers[l], zorder=r)\n",
    "    else:\n",
    "        for l, r in zip(labels, rank):\n",
    "            if (facecolor == 'None') and (markers[l] != 'x'):\n",
    "                plt.scatter(data[class_labels==l, 0], data[class_labels==l, 1], edgecolors=colors[l], label=f'cluster{l}', marker=markers[l], facecolor=facecolor, zorder=r)\n",
    "            else:\n",
    "                plt.scatter(data[class_labels==l, 0], data[class_labels==l, 1], c=colors[l], label=f'cluster{l}', marker=markers[l], zorder=r)\n",
    "\n",
    "    plt.xlabel(xylabel[0])\n",
    "    plt.ylabel(xylabel[1])\n",
    "    plt.legend(loc='upper left', bbox_to_anchor=(1,1))\n",
    "    plt.tight_layout()\n",
    "    plt.show()"
   ]
  },
  {
   "cell_type": "code",
   "execution_count": 3,
   "metadata": {},
   "outputs": [],
   "source": [
    "def concat_images(imgs, n_col, n_row, padding):\n",
    "    w, h = imgs[0].size\n",
    "    w_with_pad = w + padding\n",
    "    h_with_pad = h + padding\n",
    "    W = (w_with_pad) * n_col + padding\n",
    "    H = (h_with_pad) * n_row + padding\n",
    "\n",
    "    dst = Image.new('L', (W, H))\n",
    "    iter_imgs = iter(imgs)\n",
    "    for j in range(n_row):\n",
    "        for i in range(n_col):\n",
    "            img = next(iter_imgs)\n",
    "            dst.paste(img, (padding + w_with_pad * i, padding + h_with_pad * j))\n",
    "    return dst"
   ]
  },
  {
   "cell_type": "code",
   "execution_count": null,
   "metadata": {},
   "outputs": [],
   "source": [
    "def make_path_from_df(row):\n",
    "    return Path(f\"{row['dirname']}/{row['filename']}\")"
   ]
  },
  {
   "cell_type": "code",
   "execution_count": 4,
   "metadata": {},
   "outputs": [],
   "source": [
    "def image_concat_and_imshow(df, labels, colrow, image_root):\n",
    "    concat_imgs = []\n",
    "    num_labels = len(np.unique(labels))\n",
    "    for l in np.unique(labels):\n",
    "        imgs = []\n",
    "        df_ = df[labels == l].sample(colrow[0] * colrow[1])\n",
    "        df_.apply(make_path_from_df, axis=1)\n",
    "        for p in df_.apply(make_path_from_df, axis=1):\n",
    "            imgs.append(Image.open(image_root / p))\n",
    "        concat_imgs.append(concat_images(imgs, colrow[0], colrow[1], 2))\n",
    "\n",
    "    fig = plt.figure(figsize=(10,11))\n",
    "    axes = list(map(lambda f: fig.add_subplot(1,num_labels,f+1), range(num_labels)))\n",
    "    for i in range(num_labels):\n",
    "        axes[i].imshow(concat_imgs[i], )\n",
    "        axes[i].set_title(f'cluster {i}')\n",
    "        axes[i].axis('off')\n",
    "\n",
    "    plt.show()\n",
    "\n",
    "    return concat_imgs"
   ]
  },
  {
   "cell_type": "code",
   "execution_count": 5,
   "metadata": {},
   "outputs": [],
   "source": [
    "colors = ['tab:blue', 'tab:orange', 'tab:green', 'tab:red', 'tab:purple', 'tab:brown', 'tab:pink', 'tab:gray', 'tab:olive', 'tab:cyan']\n",
    "markers = ['s', 'D', 'o', 'p', '*', 'h', 'D', '8', 'v', 'x']\n",
    "\n",
    "feature_csv_path = \"/home/shinsei/MyResearchs/feat_extrc/reports/features/SimpleCAE32/2023-07-07/12-15-24/features.csv\""
   ]
  },
  {
   "cell_type": "code",
   "execution_count": 9,
   "metadata": {},
   "outputs": [
    {
     "data": {
      "text/html": [
       "<div><style>\n",
       ".dataframe > thead > tr > th,\n",
       ".dataframe > tbody > tr > td {\n",
       "  text-align: right;\n",
       "}\n",
       "</style>\n",
       "<small>shape: (10_800, 128)</small><table border=\"1\" class=\"dataframe\"><thead><tr><th>column_0</th><th>column_1</th><th>column_2</th><th>column_3</th><th>column_4</th><th>column_5</th><th>column_6</th><th>column_7</th><th>column_8</th><th>column_9</th><th>column_10</th><th>column_11</th><th>column_12</th><th>column_13</th><th>column_14</th><th>column_15</th><th>column_16</th><th>column_17</th><th>column_18</th><th>column_19</th><th>column_20</th><th>column_21</th><th>column_22</th><th>column_23</th><th>column_24</th><th>column_25</th><th>column_26</th><th>column_27</th><th>column_28</th><th>column_29</th><th>column_30</th><th>column_31</th><th>column_32</th><th>column_33</th><th>column_34</th><th>column_35</th><th>column_36</th><th>&hellip;</th><th>column_91</th><th>column_92</th><th>column_93</th><th>column_94</th><th>column_95</th><th>column_96</th><th>column_97</th><th>column_98</th><th>column_99</th><th>column_100</th><th>column_101</th><th>column_102</th><th>column_103</th><th>column_104</th><th>column_105</th><th>column_106</th><th>column_107</th><th>column_108</th><th>column_109</th><th>column_110</th><th>column_111</th><th>column_112</th><th>column_113</th><th>column_114</th><th>column_115</th><th>column_116</th><th>column_117</th><th>column_118</th><th>column_119</th><th>column_120</th><th>column_121</th><th>column_122</th><th>column_123</th><th>column_124</th><th>column_125</th><th>column_126</th><th>column_127</th></tr><tr><td>f64</td><td>f64</td><td>f64</td><td>f64</td><td>f64</td><td>f64</td><td>f64</td><td>f64</td><td>f64</td><td>f64</td><td>f64</td><td>f64</td><td>f64</td><td>f64</td><td>f64</td><td>f64</td><td>f64</td><td>f64</td><td>f64</td><td>f64</td><td>f64</td><td>f64</td><td>f64</td><td>f64</td><td>f64</td><td>f64</td><td>f64</td><td>f64</td><td>f64</td><td>f64</td><td>f64</td><td>f64</td><td>f64</td><td>f64</td><td>f64</td><td>f64</td><td>f64</td><td>&hellip;</td><td>f64</td><td>f64</td><td>f64</td><td>f64</td><td>f64</td><td>f64</td><td>f64</td><td>f64</td><td>f64</td><td>f64</td><td>f64</td><td>f64</td><td>f64</td><td>f64</td><td>f64</td><td>f64</td><td>f64</td><td>f64</td><td>f64</td><td>f64</td><td>f64</td><td>f64</td><td>f64</td><td>f64</td><td>f64</td><td>f64</td><td>f64</td><td>f64</td><td>f64</td><td>f64</td><td>f64</td><td>f64</td><td>f64</td><td>f64</td><td>f64</td><td>f64</td><td>f64</td></tr></thead><tbody><tr><td>0.006472</td><td>-0.000018</td><td>-0.000016</td><td>0.00096</td><td>0.004346</td><td>-0.000056</td><td>-0.000052</td><td>0.004446</td><td>0.001696</td><td>-0.000026</td><td>-0.000029</td><td>-0.000078</td><td>-0.000073</td><td>-0.000062</td><td>-0.000051</td><td>0.001236</td><td>-0.000012</td><td>-0.000003</td><td>-0.00013</td><td>-0.000075</td><td>0.000357</td><td>-0.000005</td><td>0.004875</td><td>0.001264</td><td>0.005539</td><td>-0.000088</td><td>-0.000036</td><td>-0.000017</td><td>-0.000011</td><td>-0.000057</td><td>-0.000053</td><td>-0.000053</td><td>0.000609</td><td>-0.000048</td><td>-0.000033</td><td>0.005627</td><td>-0.000013</td><td>&hellip;</td><td>-0.000076</td><td>-0.000022</td><td>-0.000066</td><td>-0.000005</td><td>-0.000003</td><td>-0.000022</td><td>0.004437</td><td>0.002324</td><td>0.000861</td><td>0.001192</td><td>-0.000012</td><td>-0.000025</td><td>-0.000126</td><td>0.000836</td><td>-0.000086</td><td>0.000888</td><td>-0.000043</td><td>0.000553</td><td>-0.000025</td><td>-0.000063</td><td>0.004848</td><td>0.000804</td><td>-0.000026</td><td>0.003336</td><td>0.001801</td><td>-0.000065</td><td>-0.000036</td><td>0.001521</td><td>0.001728</td><td>-0.000019</td><td>0.000818</td><td>0.00031</td><td>-0.000059</td><td>-0.000033</td><td>0.00436</td><td>0.00197</td><td>0.000142</td></tr><tr><td>0.005489</td><td>-0.000009</td><td>-0.00002</td><td>-0.000002</td><td>0.003268</td><td>-0.000051</td><td>-0.000027</td><td>0.003189</td><td>0.001194</td><td>-0.000032</td><td>-0.000021</td><td>-0.000063</td><td>-0.000073</td><td>-0.000058</td><td>-0.000043</td><td>0.001139</td><td>-0.000021</td><td>-0.000013</td><td>-0.000094</td><td>-0.000051</td><td>-0.000006</td><td>-0.000005</td><td>0.00406</td><td>-0.000003</td><td>0.004351</td><td>-0.000079</td><td>-0.000036</td><td>-0.000023</td><td>-0.000019</td><td>-0.000056</td><td>-0.000052</td><td>-0.000048</td><td>0.000639</td><td>-0.000015</td><td>-0.000032</td><td>0.005356</td><td>-0.000034</td><td>&hellip;</td><td>-0.000045</td><td>-0.000021</td><td>-0.000064</td><td>0.000125</td><td>0.000054</td><td>-0.000027</td><td>0.002891</td><td>0.001542</td><td>-0.000018</td><td>0.001638</td><td>-0.000043</td><td>-0.000009</td><td>-0.000096</td><td>0.000891</td><td>-0.000082</td><td>-0.000007</td><td>-0.000037</td><td>0.001002</td><td>0.000177</td><td>-0.000036</td><td>0.004962</td><td>-2.9109e-7</td><td>0.000016</td><td>0.002736</td><td>0.001173</td><td>-0.000052</td><td>-0.000035</td><td>0.001707</td><td>0.001849</td><td>-0.000018</td><td>0.000713</td><td>-0.000013</td><td>-0.000042</td><td>-0.000017</td><td>0.002883</td><td>0.001838</td><td>-0.000035</td></tr><tr><td>0.005089</td><td>-0.000001</td><td>-0.000033</td><td>0.001084</td><td>0.003872</td><td>-0.000064</td><td>-0.000049</td><td>0.003297</td><td>-0.000002</td><td>-0.000023</td><td>-0.000024</td><td>-0.000062</td><td>-0.000059</td><td>-0.000069</td><td>-0.000017</td><td>0.001358</td><td>-0.000012</td><td>-0.000006</td><td>-0.000106</td><td>-0.000066</td><td>-0.000009</td><td>-0.000009</td><td>0.004427</td><td>0.000392</td><td>0.004185</td><td>-0.000091</td><td>-0.000052</td><td>-0.000009</td><td>-0.000049</td><td>-0.000059</td><td>-0.000034</td><td>-0.000055</td><td>0.002325</td><td>-0.000011</td><td>-0.000047</td><td>0.005932</td><td>-0.000011</td><td>&hellip;</td><td>-0.000057</td><td>-0.000022</td><td>-0.000044</td><td>-0.000004</td><td>-0.000018</td><td>-0.000026</td><td>0.003398</td><td>0.001535</td><td>0.001097</td><td>0.001118</td><td>-0.00003</td><td>-0.000015</td><td>-0.000094</td><td>-0.000003</td><td>-0.000077</td><td>-0.000015</td><td>-0.000015</td><td>0.000538</td><td>0.000845</td><td>-0.000022</td><td>0.003508</td><td>-0.000031</td><td>0.000012</td><td>0.001627</td><td>0.000156</td><td>-0.000056</td><td>-0.000029</td><td>0.00004</td><td>0.001158</td><td>-0.000008</td><td>0.000564</td><td>-0.000015</td><td>-0.000057</td><td>-0.000009</td><td>0.003786</td><td>0.000918</td><td>-0.000018</td></tr><tr><td>0.005846</td><td>-0.000003</td><td>-0.000029</td><td>-0.000021</td><td>0.003356</td><td>-0.000066</td><td>-0.000049</td><td>0.003043</td><td>0.00073</td><td>-0.000014</td><td>-0.000035</td><td>-0.000083</td><td>-0.000048</td><td>-0.000059</td><td>-0.000038</td><td>0.001954</td><td>-0.000029</td><td>-0.000008</td><td>-0.000083</td><td>-0.000061</td><td>0.001383</td><td>0.000381</td><td>0.004402</td><td>0.000524</td><td>0.003496</td><td>-0.00007</td><td>-0.000033</td><td>-0.000006</td><td>-0.000004</td><td>-0.000062</td><td>-0.000062</td><td>-0.000014</td><td>0.000582</td><td>0.000082</td><td>-0.000016</td><td>0.004784</td><td>-0.000002</td><td>&hellip;</td><td>-0.000042</td><td>-0.000009</td><td>-0.000073</td><td>-0.000008</td><td>-0.000008</td><td>-0.000027</td><td>0.004133</td><td>0.001721</td><td>-0.000013</td><td>0.001491</td><td>-0.000006</td><td>-0.000024</td><td>-0.000108</td><td>0.001624</td><td>-0.000075</td><td>-0.000003</td><td>-0.000048</td><td>0.001534</td><td>-0.000019</td><td>-0.000059</td><td>0.002916</td><td>0.00014</td><td>-0.000016</td><td>0.001632</td><td>0.002316</td><td>-0.000054</td><td>-0.000062</td><td>0.00062</td><td>0.00134</td><td>-0.000024</td><td>0.000512</td><td>0.00051</td><td>-0.000039</td><td>-0.000032</td><td>0.003557</td><td>0.00215</td><td>-0.000014</td></tr><tr><td>0.004845</td><td>-0.000029</td><td>-0.000011</td><td>-1.4778e-7</td><td>0.003868</td><td>-0.000058</td><td>-0.000061</td><td>0.003428</td><td>0.001491</td><td>-0.000023</td><td>-0.000042</td><td>-0.000075</td><td>-0.000059</td><td>-0.000072</td><td>-0.000044</td><td>0.001844</td><td>-0.000035</td><td>0.000304</td><td>-0.000123</td><td>-0.000053</td><td>0.001069</td><td>-8.6979e-7</td><td>0.005026</td><td>0.000379</td><td>0.002774</td><td>-0.000091</td><td>-0.000043</td><td>-0.000016</td><td>0.000124</td><td>-0.00004</td><td>-0.000075</td><td>-0.000039</td><td>0.00106</td><td>-0.000052</td><td>0.000804</td><td>0.00482</td><td>-0.000005</td><td>&hellip;</td><td>-0.000073</td><td>-0.000004</td><td>-0.000069</td><td>-0.00001</td><td>0.000131</td><td>-0.000027</td><td>0.004213</td><td>0.002442</td><td>0.000494</td><td>0.001931</td><td>-0.000026</td><td>-0.000022</td><td>-0.000113</td><td>0.001011</td><td>-0.000068</td><td>0.000755</td><td>-0.000044</td><td>0.001587</td><td>-0.000012</td><td>-0.000067</td><td>0.003504</td><td>-0.00001</td><td>-0.000011</td><td>0.002861</td><td>0.000715</td><td>-0.00005</td><td>-0.00004</td><td>0.001997</td><td>0.001362</td><td>-0.00001</td><td>-0.000005</td><td>0.000716</td><td>-0.000028</td><td>-0.000013</td><td>0.003236</td><td>0.001758</td><td>-0.000023</td></tr><tr><td>0.005323</td><td>0.000252</td><td>-0.000015</td><td>0.000779</td><td>0.002941</td><td>-0.000052</td><td>-0.000047</td><td>0.003653</td><td>0.001041</td><td>-0.000005</td><td>-0.000044</td><td>-0.000065</td><td>-0.00007</td><td>-0.000049</td><td>-0.000058</td><td>-0.000007</td><td>-0.00004</td><td>0.000171</td><td>-0.000088</td><td>-0.000063</td><td>0.000468</td><td>-0.000008</td><td>0.005354</td><td>0.001106</td><td>0.003548</td><td>-0.000086</td><td>-0.000058</td><td>0.000169</td><td>-0.000034</td><td>-0.000055</td><td>-0.000031</td><td>-0.000036</td><td>0.001841</td><td>-0.00004</td><td>0.000069</td><td>0.003554</td><td>-0.000013</td><td>&hellip;</td><td>-0.000045</td><td>0.000015</td><td>-0.00006</td><td>-0.000011</td><td>-8.3981e-7</td><td>-0.000023</td><td>0.003592</td><td>0.002678</td><td>0.00125</td><td>0.001786</td><td>-0.000044</td><td>-0.000008</td><td>-0.000112</td><td>0.000077</td><td>-0.000065</td><td>0.000842</td><td>-0.000067</td><td>0.000789</td><td>-0.000003</td><td>-0.000049</td><td>0.004402</td><td>-0.000007</td><td>-0.000027</td><td>0.002782</td><td>0.001846</td><td>-0.000055</td><td>-0.000047</td><td>0.001452</td><td>0.001489</td><td>0.000037</td><td>-0.000011</td><td>-0.000013</td><td>-0.000037</td><td>-0.000033</td><td>0.002537</td><td>0.001965</td><td>-0.000019</td></tr><tr><td>0.004296</td><td>-0.000015</td><td>-0.000018</td><td>0.000286</td><td>0.003486</td><td>-0.000055</td><td>-0.000054</td><td>0.004113</td><td>0.00239</td><td>-0.000034</td><td>-0.000047</td><td>-0.000082</td><td>-0.000068</td><td>-0.000074</td><td>-0.000044</td><td>0.001412</td><td>-0.00004</td><td>0.001355</td><td>-0.00013</td><td>-0.000082</td><td>0.001353</td><td>-0.000023</td><td>0.003709</td><td>0.001069</td><td>0.002991</td><td>-0.000084</td><td>-0.000047</td><td>-0.000018</td><td>-0.000034</td><td>-0.000058</td><td>-0.000046</td><td>-0.00004</td><td>0.001443</td><td>-0.000041</td><td>-0.000025</td><td>0.00499</td><td>-0.000018</td><td>&hellip;</td><td>-0.000058</td><td>-0.000012</td><td>-0.000041</td><td>0.001238</td><td>-0.00002</td><td>-0.000011</td><td>0.003905</td><td>0.001044</td><td>0.000381</td><td>0.001489</td><td>-0.000037</td><td>-0.000024</td><td>-0.000111</td><td>0.001576</td><td>-0.000055</td><td>-0.000013</td><td>-0.000048</td><td>-0.000011</td><td>-0.000004</td><td>-0.000039</td><td>0.004605</td><td>-0.000008</td><td>-0.000021</td><td>0.002425</td><td>0.001712</td><td>-0.000059</td><td>-0.000017</td><td>0.001507</td><td>0.000774</td><td>-0.000017</td><td>-0.000008</td><td>-0.000037</td><td>-0.000062</td><td>-0.000018</td><td>0.003515</td><td>0.00175</td><td>-0.000006</td></tr><tr><td>0.005646</td><td>-0.000015</td><td>-0.000028</td><td>-0.000015</td><td>0.002945</td><td>-0.000069</td><td>-0.000066</td><td>0.003088</td><td>0.001676</td><td>-0.000009</td><td>-0.000037</td><td>-0.000059</td><td>-0.000069</td><td>-0.000066</td><td>-0.000026</td><td>0.00221</td><td>-0.00002</td><td>-0.000015</td><td>-0.000128</td><td>-0.000085</td><td>0.001908</td><td>-0.000002</td><td>0.004664</td><td>0.000339</td><td>0.004087</td><td>-0.000091</td><td>-0.000039</td><td>-0.000012</td><td>-0.000023</td><td>-0.00007</td><td>-0.000067</td><td>-0.000048</td><td>0.001959</td><td>-0.000035</td><td>-0.000028</td><td>0.005752</td><td>-0.000026</td><td>&hellip;</td><td>-0.000058</td><td>-0.00002</td><td>-0.000043</td><td>-0.000018</td><td>0.000601</td><td>-0.000042</td><td>0.003666</td><td>0.002496</td><td>0.000989</td><td>0.000728</td><td>-0.000038</td><td>-0.000038</td><td>-0.000091</td><td>0.000125</td><td>-0.000101</td><td>-0.000021</td><td>-0.00003</td><td>-0.000023</td><td>0.000038</td><td>-0.000061</td><td>0.003635</td><td>-0.000043</td><td>-0.000025</td><td>0.002647</td><td>0.00222</td><td>-0.000036</td><td>-0.000032</td><td>0.00238</td><td>0.001305</td><td>-0.000005</td><td>0.001012</td><td>-0.000007</td><td>-0.000047</td><td>-0.000013</td><td>0.003853</td><td>0.000826</td><td>-0.000035</td></tr><tr><td>0.005797</td><td>-0.000025</td><td>-0.00002</td><td>-0.000016</td><td>0.004093</td><td>-0.000048</td><td>-0.000041</td><td>0.003936</td><td>0.0002</td><td>-0.000037</td><td>-0.000039</td><td>-0.000071</td><td>-0.000071</td><td>-0.000059</td><td>-0.000035</td><td>0.002471</td><td>-0.000039</td><td>0.000324</td><td>-0.000109</td><td>-0.00008</td><td>0.000812</td><td>0.000254</td><td>0.004947</td><td>0.00064</td><td>0.003204</td><td>-0.000061</td><td>-0.000022</td><td>-0.000033</td><td>-0.000009</td><td>-0.000058</td><td>-0.000053</td><td>-0.000026</td><td>0.000803</td><td>-0.000035</td><td>-0.000024</td><td>0.00618</td><td>-0.000012</td><td>&hellip;</td><td>-0.000051</td><td>-0.000015</td><td>-0.000063</td><td>0.000305</td><td>-0.00001</td><td>-0.000004</td><td>0.002769</td><td>0.001287</td><td>0.00083</td><td>0.001202</td><td>-0.000004</td><td>-0.000018</td><td>-0.000108</td><td>0.000194</td><td>-0.000043</td><td>-0.000008</td><td>-0.000043</td><td>0.000711</td><td>-0.000032</td><td>-0.00004</td><td>0.003671</td><td>-0.000017</td><td>-0.00002</td><td>0.001194</td><td>0.002002</td><td>-0.000045</td><td>-0.000044</td><td>0.001198</td><td>0.002462</td><td>-0.000022</td><td>-0.000009</td><td>0.000522</td><td>-0.000043</td><td>-0.000015</td><td>0.003238</td><td>0.001397</td><td>-0.00001</td></tr><tr><td>0.006759</td><td>-0.000011</td><td>-0.000007</td><td>-0.000011</td><td>0.003961</td><td>-0.000056</td><td>-0.000014</td><td>0.004746</td><td>0.00209</td><td>-0.000036</td><td>-0.000036</td><td>-0.000073</td><td>-0.000084</td><td>-0.00008</td><td>-0.000055</td><td>0.0015</td><td>-0.000039</td><td>-0.000001</td><td>-0.000101</td><td>-0.000054</td><td>0.001146</td><td>-0.000018</td><td>0.005008</td><td>0.001181</td><td>0.002965</td><td>-0.000101</td><td>-0.00006</td><td>0.000774</td><td>-0.000029</td><td>-0.000052</td><td>-0.000043</td><td>-0.000038</td><td>0.001129</td><td>-0.000034</td><td>-0.000022</td><td>0.006346</td><td>-0.000026</td><td>&hellip;</td><td>-0.000046</td><td>-0.000008</td><td>-0.000065</td><td>-0.000005</td><td>-0.000017</td><td>-0.000017</td><td>0.004202</td><td>0.002257</td><td>0.00112</td><td>0.002714</td><td>-0.000048</td><td>-0.00003</td><td>-0.000132</td><td>0.000088</td><td>-0.00005</td><td>-0.000024</td><td>-0.000062</td><td>0.000947</td><td>0.000244</td><td>-0.000045</td><td>0.00576</td><td>-0.000008</td><td>-0.000008</td><td>0.003473</td><td>0.000626</td><td>-0.000057</td><td>-0.000047</td><td>0.000396</td><td>0.001185</td><td>0.000853</td><td>-0.00001</td><td>-0.000005</td><td>-0.000031</td><td>-0.000029</td><td>0.003853</td><td>0.001411</td><td>0.000282</td></tr><tr><td>0.005264</td><td>-0.000003</td><td>-0.000022</td><td>0.000022</td><td>0.004032</td><td>-0.000067</td><td>-0.000052</td><td>0.004386</td><td>0.001364</td><td>-0.00002</td><td>-0.000035</td><td>-0.000067</td><td>-0.000064</td><td>-0.000046</td><td>-0.000039</td><td>0.001502</td><td>-0.00002</td><td>-4.2247e-7</td><td>-0.000121</td><td>-0.00008</td><td>0.001156</td><td>0.000076</td><td>0.004566</td><td>0.000892</td><td>0.003294</td><td>-0.000088</td><td>-0.000029</td><td>-0.000015</td><td>-0.000035</td><td>-0.000057</td><td>-0.00006</td><td>-0.000028</td><td>0.002262</td><td>-0.000009</td><td>-0.000014</td><td>0.004919</td><td>-0.000008</td><td>&hellip;</td><td>-0.000055</td><td>-0.000023</td><td>-0.000056</td><td>-0.000006</td><td>0.000186</td><td>-0.000033</td><td>0.003329</td><td>0.001812</td><td>0.000254</td><td>0.001669</td><td>-0.000036</td><td>-0.000015</td><td>-0.000102</td><td>0.000079</td><td>-0.000073</td><td>-0.000015</td><td>-0.000032</td><td>0.000467</td><td>0.000404</td><td>-0.000043</td><td>0.003393</td><td>-0.000025</td><td>-0.000011</td><td>0.003209</td><td>0.000634</td><td>-0.000044</td><td>-0.000032</td><td>0.001087</td><td>0.001551</td><td>-0.00002</td><td>-0.000012</td><td>-0.000004</td><td>-0.000046</td><td>-0.00002</td><td>0.00325</td><td>0.001264</td><td>-0.000023</td></tr><tr><td>0.004487</td><td>-0.000003</td><td>-0.000028</td><td>0.00048</td><td>0.003538</td><td>-0.00007</td><td>-0.000039</td><td>0.002634</td><td>0.001107</td><td>-0.000034</td><td>-0.000036</td><td>-0.000058</td><td>-0.000068</td><td>-0.000043</td><td>-0.000035</td><td>0.001612</td><td>-0.000022</td><td>-1.9658e-7</td><td>-0.000096</td><td>-0.000057</td><td>0.000747</td><td>0.000627</td><td>0.004109</td><td>0.000433</td><td>0.002803</td><td>-0.000086</td><td>-0.00002</td><td>-0.000021</td><td>-0.000024</td><td>-0.000043</td><td>-0.000068</td><td>-0.000014</td><td>0.000629</td><td>-0.000042</td><td>0.001169</td><td>0.003739</td><td>-0.000002</td><td>&hellip;</td><td>-0.000042</td><td>-0.000007</td><td>-0.000043</td><td>0.000488</td><td>-0.000035</td><td>-0.000024</td><td>0.003317</td><td>0.001033</td><td>0.000311</td><td>0.001805</td><td>-0.00001</td><td>-0.000014</td><td>-0.00009</td><td>0.000265</td><td>-0.000024</td><td>0.000071</td><td>-0.000048</td><td>0.000038</td><td>-0.000006</td><td>-0.000051</td><td>0.003308</td><td>-1.8663e-7</td><td>-0.000016</td><td>0.002536</td><td>0.000979</td><td>-0.000044</td><td>-0.000032</td><td>0.001399</td><td>0.002202</td><td>-0.000008</td><td>-0.000006</td><td>0.00057</td><td>-0.000011</td><td>-0.000023</td><td>0.004066</td><td>0.001951</td><td>-0.000018</td></tr><tr><td>&hellip;</td><td>&hellip;</td><td>&hellip;</td><td>&hellip;</td><td>&hellip;</td><td>&hellip;</td><td>&hellip;</td><td>&hellip;</td><td>&hellip;</td><td>&hellip;</td><td>&hellip;</td><td>&hellip;</td><td>&hellip;</td><td>&hellip;</td><td>&hellip;</td><td>&hellip;</td><td>&hellip;</td><td>&hellip;</td><td>&hellip;</td><td>&hellip;</td><td>&hellip;</td><td>&hellip;</td><td>&hellip;</td><td>&hellip;</td><td>&hellip;</td><td>&hellip;</td><td>&hellip;</td><td>&hellip;</td><td>&hellip;</td><td>&hellip;</td><td>&hellip;</td><td>&hellip;</td><td>&hellip;</td><td>&hellip;</td><td>&hellip;</td><td>&hellip;</td><td>&hellip;</td><td>&hellip;</td><td>&hellip;</td><td>&hellip;</td><td>&hellip;</td><td>&hellip;</td><td>&hellip;</td><td>&hellip;</td><td>&hellip;</td><td>&hellip;</td><td>&hellip;</td><td>&hellip;</td><td>&hellip;</td><td>&hellip;</td><td>&hellip;</td><td>&hellip;</td><td>&hellip;</td><td>&hellip;</td><td>&hellip;</td><td>&hellip;</td><td>&hellip;</td><td>&hellip;</td><td>&hellip;</td><td>&hellip;</td><td>&hellip;</td><td>&hellip;</td><td>&hellip;</td><td>&hellip;</td><td>&hellip;</td><td>&hellip;</td><td>&hellip;</td><td>&hellip;</td><td>&hellip;</td><td>&hellip;</td><td>&hellip;</td><td>&hellip;</td><td>&hellip;</td><td>&hellip;</td><td>&hellip;</td></tr><tr><td>0.005478</td><td>-0.000004</td><td>-0.000024</td><td>0.001171</td><td>0.004857</td><td>-0.000065</td><td>-0.000099</td><td>0.003431</td><td>0.001093</td><td>-0.000058</td><td>-0.000047</td><td>-0.000099</td><td>-0.000082</td><td>-0.000083</td><td>-0.000051</td><td>0.001025</td><td>-0.000009</td><td>0.000995</td><td>-0.00009</td><td>-0.00007</td><td>-0.000002</td><td>-0.000014</td><td>0.004038</td><td>0.001834</td><td>0.003858</td><td>-0.000104</td><td>-0.000023</td><td>0.000647</td><td>-0.000029</td><td>-0.000066</td><td>-0.000043</td><td>-0.000043</td><td>0.001497</td><td>-0.000037</td><td>-0.00004</td><td>0.00463</td><td>-0.000018</td><td>&hellip;</td><td>-0.000071</td><td>-0.000034</td><td>-0.000066</td><td>0.000236</td><td>-0.000016</td><td>-0.000041</td><td>0.004025</td><td>0.001519</td><td>-0.000012</td><td>0.000211</td><td>-0.000016</td><td>-0.000012</td><td>-0.000128</td><td>0.000631</td><td>-0.000071</td><td>0.000588</td><td>-0.000021</td><td>0.000053</td><td>-0.000011</td><td>-0.000042</td><td>0.004172</td><td>0.000456</td><td>-0.000008</td><td>0.001539</td><td>0.000282</td><td>-0.00005</td><td>-0.000019</td><td>0.001456</td><td>0.000778</td><td>0.000027</td><td>0.00071</td><td>0.00034</td><td>-0.000042</td><td>-0.00005</td><td>0.003293</td><td>0.00255</td><td>-0.000018</td></tr><tr><td>0.005814</td><td>-6.5005e-7</td><td>-0.00004</td><td>-0.000001</td><td>0.003472</td><td>-0.000069</td><td>-0.000069</td><td>0.004105</td><td>0.000877</td><td>-0.000022</td><td>-0.000018</td><td>-0.000061</td><td>-0.000065</td><td>-0.000068</td><td>-0.00004</td><td>0.001641</td><td>-8.3263e-7</td><td>0.000114</td><td>-0.000113</td><td>-0.000083</td><td>0.000287</td><td>0.000249</td><td>0.004355</td><td>0.000906</td><td>0.004712</td><td>-0.000092</td><td>-0.00004</td><td>-0.000023</td><td>-0.00002</td><td>-0.000033</td><td>-0.000036</td><td>-0.000005</td><td>0.000774</td><td>-0.000006</td><td>-0.000021</td><td>0.005471</td><td>-0.000027</td><td>&hellip;</td><td>-0.000056</td><td>-0.000016</td><td>-0.000072</td><td>0.000444</td><td>-0.000011</td><td>-0.000026</td><td>0.003858</td><td>0.001623</td><td>-0.000011</td><td>0.001804</td><td>-0.000014</td><td>-0.000024</td><td>-0.000114</td><td>0.00082</td><td>-0.000064</td><td>0.000699</td><td>-0.000054</td><td>0.000699</td><td>-0.000009</td><td>-0.000046</td><td>0.004557</td><td>-0.000003</td><td>0.000266</td><td>0.002355</td><td>0.001882</td><td>-0.000048</td><td>-0.000041</td><td>0.000351</td><td>0.001607</td><td>-0.000022</td><td>-0.000003</td><td>-0.000011</td><td>-0.000026</td><td>-0.000027</td><td>0.003512</td><td>0.001206</td><td>-0.000019</td></tr><tr><td>0.00537</td><td>0.00002</td><td>-0.000022</td><td>-0.000022</td><td>0.00316</td><td>-0.000084</td><td>-0.000031</td><td>0.004523</td><td>0.002096</td><td>-0.00003</td><td>-0.000006</td><td>-0.000057</td><td>-0.000079</td><td>-0.000081</td><td>-0.000046</td><td>0.002223</td><td>-0.000028</td><td>0.000886</td><td>-0.000112</td><td>-0.000082</td><td>0.002191</td><td>-0.000009</td><td>0.004654</td><td>0.000686</td><td>0.002654</td><td>-0.000099</td><td>-0.000036</td><td>-0.000012</td><td>0.001152</td><td>-0.000045</td><td>-0.000037</td><td>-0.000027</td><td>0.001335</td><td>-0.000043</td><td>-0.000015</td><td>0.00625</td><td>-0.000039</td><td>&hellip;</td><td>-0.000057</td><td>-0.000018</td><td>-0.000052</td><td>-0.000017</td><td>0.000519</td><td>-0.000022</td><td>0.003836</td><td>0.002055</td><td>0.000643</td><td>0.001394</td><td>-0.000003</td><td>-0.000034</td><td>-0.000099</td><td>0.000171</td><td>-0.00007</td><td>0.000146</td><td>-0.000055</td><td>0.000454</td><td>-0.000007</td><td>-0.00005</td><td>0.004014</td><td>-0.000002</td><td>-0.000004</td><td>0.001646</td><td>0.001338</td><td>-0.000057</td><td>-0.000065</td><td>0.001759</td><td>0.001754</td><td>-0.000027</td><td>0.000329</td><td>-0.000001</td><td>-0.000014</td><td>-0.000007</td><td>0.004559</td><td>0.002188</td><td>-0.000015</td></tr><tr><td>0.00465</td><td>-0.000013</td><td>-0.000011</td><td>0.000265</td><td>0.002584</td><td>-0.000043</td><td>-0.000054</td><td>0.003536</td><td>0.001027</td><td>-0.000015</td><td>-0.000014</td><td>-0.000031</td><td>-0.000039</td><td>-0.000045</td><td>-0.000042</td><td>0.001919</td><td>-0.000031</td><td>-0.000003</td><td>-0.000095</td><td>-0.000045</td><td>0.000353</td><td>-0.000029</td><td>0.003514</td><td>-0.000002</td><td>0.00246</td><td>-0.000064</td><td>-0.000038</td><td>-0.000013</td><td>-8.8061e-7</td><td>-0.000038</td><td>-0.000032</td><td>-0.000023</td><td>0.001526</td><td>-0.000033</td><td>-0.000021</td><td>0.004793</td><td>-0.000025</td><td>&hellip;</td><td>-0.000037</td><td>-0.000013</td><td>-0.000036</td><td>-3.2610e-7</td><td>0.000151</td><td>-0.000028</td><td>0.002924</td><td>0.000806</td><td>0.000488</td><td>0.001881</td><td>-0.000031</td><td>-0.000015</td><td>-0.000088</td><td>0.001043</td><td>-0.000049</td><td>-0.000005</td><td>-0.00003</td><td>-0.000015</td><td>0.000353</td><td>-0.000031</td><td>0.002828</td><td>-0.000014</td><td>-0.000002</td><td>0.00198</td><td>0.000974</td><td>-0.000046</td><td>-0.000026</td><td>0.001043</td><td>0.000217</td><td>-0.000012</td><td>0.000172</td><td>-0.000006</td><td>-0.000023</td><td>-0.000004</td><td>0.002751</td><td>0.00096</td><td>-0.000016</td></tr><tr><td>0.003601</td><td>-0.000026</td><td>-0.000025</td><td>-0.000003</td><td>0.002547</td><td>-0.000047</td><td>-0.000053</td><td>0.002899</td><td>0.000506</td><td>-0.000003</td><td>-0.000045</td><td>-0.000047</td><td>-0.000062</td><td>-0.000042</td><td>-0.000034</td><td>0.001325</td><td>-0.000034</td><td>-0.000014</td><td>-0.0001</td><td>-0.000057</td><td>0.000383</td><td>-0.000029</td><td>0.003274</td><td>0.000408</td><td>0.00348</td><td>-0.000061</td><td>-0.000044</td><td>-0.000005</td><td>-0.000011</td><td>-0.000038</td><td>-0.000032</td><td>-0.000041</td><td>0.001035</td><td>-0.000022</td><td>-0.000025</td><td>0.00419</td><td>-0.000042</td><td>&hellip;</td><td>-0.000041</td><td>-0.000021</td><td>-0.000062</td><td>-0.000002</td><td>0.00053</td><td>-0.000033</td><td>0.003213</td><td>0.000918</td><td>0.00024</td><td>0.000972</td><td>-0.000017</td><td>-0.000016</td><td>-0.00009</td><td>0.000774</td><td>-0.000053</td><td>0.000075</td><td>-0.000028</td><td>0.000044</td><td>-0.000002</td><td>-0.000042</td><td>0.003381</td><td>-0.000003</td><td>-0.000011</td><td>0.001743</td><td>0.002086</td><td>-0.000046</td><td>-0.00004</td><td>0.00104</td><td>0.000721</td><td>0.000576</td><td>0.001217</td><td>-0.000022</td><td>-0.000042</td><td>-0.000011</td><td>0.002619</td><td>0.000478</td><td>-0.000011</td></tr><tr><td>0.004862</td><td>-0.000028</td><td>-0.000008</td><td>0.00053</td><td>0.004601</td><td>-0.000038</td><td>-0.000067</td><td>0.002251</td><td>0.00156</td><td>-0.000021</td><td>-0.000049</td><td>-0.000038</td><td>-0.000055</td><td>-0.000035</td><td>-0.000026</td><td>0.001381</td><td>-0.000039</td><td>0.000474</td><td>-0.000117</td><td>-0.000062</td><td>0.00054</td><td>0.000413</td><td>0.003568</td><td>0.001512</td><td>0.002087</td><td>-0.00006</td><td>-0.00002</td><td>-0.000007</td><td>-3.4869e-7</td><td>-0.000053</td><td>-0.000027</td><td>-0.00005</td><td>0.001561</td><td>-0.000037</td><td>-0.000007</td><td>0.00322</td><td>0.000971</td><td>&hellip;</td><td>-0.000044</td><td>0.000383</td><td>-0.000039</td><td>-0.000007</td><td>-0.00001</td><td>-0.000029</td><td>0.003927</td><td>0.002485</td><td>0.002036</td><td>-0.000002</td><td>-0.000031</td><td>-0.000013</td><td>-0.000084</td><td>-0.000004</td><td>-0.000057</td><td>-0.000016</td><td>-0.000025</td><td>0.001773</td><td>-0.000007</td><td>-0.000051</td><td>0.001733</td><td>-0.000007</td><td>-0.000017</td><td>0.001529</td><td>-8.9404e-7</td><td>-0.000023</td><td>-0.000038</td><td>0.000957</td><td>0.0005</td><td>-8.4862e-7</td><td>-0.000021</td><td>-0.000007</td><td>-0.000016</td><td>-0.000023</td><td>0.002852</td><td>0.001822</td><td>0.000051</td></tr><tr><td>0.005555</td><td>-0.000022</td><td>-0.000018</td><td>0.000167</td><td>0.0037</td><td>-0.000062</td><td>-0.00006</td><td>0.003397</td><td>0.000529</td><td>-0.000033</td><td>-0.000033</td><td>-0.000058</td><td>-0.000072</td><td>-0.000049</td><td>-0.000018</td><td>0.001708</td><td>-0.000022</td><td>-0.000011</td><td>-0.000111</td><td>-0.000068</td><td>0.000208</td><td>-0.000012</td><td>0.004173</td><td>0.000324</td><td>0.003493</td><td>-0.000077</td><td>-0.000042</td><td>-0.000018</td><td>-0.000016</td><td>-0.000045</td><td>-0.000043</td><td>-0.000035</td><td>0.001972</td><td>-0.000019</td><td>-0.000026</td><td>0.005531</td><td>-0.000024</td><td>&hellip;</td><td>-0.000057</td><td>-0.000007</td><td>-0.000048</td><td>0.000262</td><td>-4.4335e-7</td><td>-0.000007</td><td>0.003472</td><td>0.001743</td><td>-1.1038e-7</td><td>0.001426</td><td>-0.000035</td><td>-0.000024</td><td>-0.000109</td><td>0.000138</td><td>-0.000086</td><td>-0.000005</td><td>-0.00005</td><td>-0.00001</td><td>-0.000004</td><td>-0.000046</td><td>0.003661</td><td>-0.000016</td><td>-0.000022</td><td>0.003042</td><td>0.001824</td><td>-0.000026</td><td>-0.000028</td><td>-4.2136e-8</td><td>0.001598</td><td>-0.000026</td><td>-0.000002</td><td>-0.000012</td><td>-0.000048</td><td>-0.000011</td><td>0.002463</td><td>0.001375</td><td>-0.000009</td></tr><tr><td>0.004491</td><td>-0.000029</td><td>-0.000026</td><td>-0.000001</td><td>0.003611</td><td>-0.000066</td><td>-0.000038</td><td>0.003251</td><td>0.001608</td><td>-0.000012</td><td>-0.000051</td><td>-0.000063</td><td>-0.000065</td><td>-0.000049</td><td>-0.000046</td><td>0.001308</td><td>-0.000032</td><td>-0.000016</td><td>-0.000113</td><td>-0.000062</td><td>0.001214</td><td>-0.000018</td><td>0.003957</td><td>0.000424</td><td>0.003317</td><td>-0.000074</td><td>-0.000036</td><td>0.000163</td><td>-0.000013</td><td>-0.000057</td><td>-0.000053</td><td>-0.000029</td><td>0.001513</td><td>-0.000034</td><td>-0.000011</td><td>0.004463</td><td>-0.000015</td><td>&hellip;</td><td>-0.000033</td><td>-0.000006</td><td>-0.00006</td><td>-0.000009</td><td>0.000545</td><td>-0.000033</td><td>0.003132</td><td>0.001553</td><td>0.000572</td><td>0.00147</td><td>-0.000033</td><td>-0.000015</td><td>-0.000093</td><td>0.000735</td><td>-0.000049</td><td>-5.0457e-7</td><td>-0.000052</td><td>0.000406</td><td>0.000305</td><td>-0.000057</td><td>0.003879</td><td>-0.000029</td><td>-0.000006</td><td>0.00271</td><td>0.00168</td><td>-0.000048</td><td>-0.000027</td><td>0.001343</td><td>0.000878</td><td>0.000168</td><td>0.000588</td><td>-0.00001</td><td>-0.000026</td><td>-0.000023</td><td>0.002879</td><td>0.000439</td><td>-0.000021</td></tr><tr><td>0.00385</td><td>-0.000027</td><td>-0.000031</td><td>0.000192</td><td>0.003418</td><td>-0.000055</td><td>-0.000059</td><td>0.00275</td><td>0.000691</td><td>-0.000033</td><td>-0.000045</td><td>-0.000052</td><td>-0.000046</td><td>-0.000037</td><td>-0.000033</td><td>0.001834</td><td>-0.00002</td><td>-0.000006</td><td>-0.000104</td><td>-0.000067</td><td>0.000025</td><td>-0.000027</td><td>0.003638</td><td>0.000868</td><td>0.00317</td><td>-0.000066</td><td>-0.000043</td><td>-0.000021</td><td>-0.000027</td><td>-0.00006</td><td>-0.00005</td><td>-0.000028</td><td>0.001276</td><td>-0.000017</td><td>-0.000028</td><td>0.004525</td><td>-0.00003</td><td>&hellip;</td><td>-0.000054</td><td>-0.000018</td><td>-0.000038</td><td>0.000171</td><td>0.001018</td><td>-0.000016</td><td>0.003301</td><td>0.001751</td><td>-9.1833e-8</td><td>0.00154</td><td>-0.000021</td><td>-0.000005</td><td>-0.00011</td><td>0.000879</td><td>-0.000059</td><td>0.000408</td><td>-0.00005</td><td>0.00101</td><td>-0.000011</td><td>-0.000047</td><td>0.003371</td><td>-0.000015</td><td>-0.000017</td><td>0.001991</td><td>0.001063</td><td>-0.000046</td><td>-0.000025</td><td>0.000306</td><td>0.001102</td><td>-0.000009</td><td>-0.000009</td><td>-0.000005</td><td>-0.000046</td><td>-0.000015</td><td>0.002599</td><td>0.00163</td><td>-0.000014</td></tr><tr><td>0.005793</td><td>-0.000005</td><td>-0.000026</td><td>0.000574</td><td>0.003005</td><td>-0.000061</td><td>-0.000056</td><td>0.00321</td><td>0.00121</td><td>-0.000012</td><td>-0.000031</td><td>-0.000061</td><td>-0.000079</td><td>-0.000056</td><td>-0.000041</td><td>0.001784</td><td>-0.000043</td><td>-0.000012</td><td>-0.000107</td><td>-0.000093</td><td>0.00108</td><td>-0.000013</td><td>0.004542</td><td>0.000413</td><td>0.003698</td><td>-0.000075</td><td>-0.000035</td><td>-0.000034</td><td>-0.000017</td><td>-0.000066</td><td>-0.000048</td><td>-0.00004</td><td>0.001086</td><td>-0.000027</td><td>-0.000007</td><td>0.005593</td><td>-0.000036</td><td>&hellip;</td><td>-0.000053</td><td>-0.000007</td><td>-0.000053</td><td>-0.000008</td><td>0.000053</td><td>-0.000027</td><td>0.003852</td><td>0.002053</td><td>0.00038</td><td>0.001584</td><td>-0.000023</td><td>-0.000022</td><td>-0.000107</td><td>0.000082</td><td>-0.000048</td><td>-0.000007</td><td>-0.000051</td><td>0.000005</td><td>-0.000026</td><td>-0.000052</td><td>0.004277</td><td>-0.000009</td><td>-0.000012</td><td>0.002314</td><td>0.001717</td><td>-0.000056</td><td>-0.000059</td><td>0.001652</td><td>0.000465</td><td>-0.000008</td><td>0.000878</td><td>-0.000005</td><td>-0.000047</td><td>-0.000015</td><td>0.003169</td><td>0.001161</td><td>-0.000017</td></tr><tr><td>0.004194</td><td>-0.000001</td><td>-0.000026</td><td>-0.000008</td><td>0.003529</td><td>-0.000064</td><td>-0.000055</td><td>0.002276</td><td>0.001519</td><td>-0.000024</td><td>-0.000045</td><td>-0.000045</td><td>-0.000062</td><td>-0.000042</td><td>-0.000037</td><td>0.001177</td><td>-0.000024</td><td>-0.000016</td><td>-0.000107</td><td>-0.00006</td><td>0.000856</td><td>-0.00001</td><td>0.004433</td><td>0.001086</td><td>0.003019</td><td>-0.000077</td><td>-0.000017</td><td>0.000119</td><td>-0.000019</td><td>-0.000053</td><td>-0.000056</td><td>-0.000026</td><td>0.001783</td><td>-0.000049</td><td>-0.000009</td><td>0.004603</td><td>-0.000005</td><td>&hellip;</td><td>-0.00005</td><td>-0.000005</td><td>-0.000047</td><td>0.000297</td><td>0.000217</td><td>-0.000008</td><td>0.003863</td><td>0.002178</td><td>0.001161</td><td>0.001084</td><td>-0.000041</td><td>-0.000015</td><td>-0.000105</td><td>0.00029</td><td>-0.000083</td><td>0.000401</td><td>-0.00003</td><td>0.000391</td><td>-3.5611e-7</td><td>-0.000043</td><td>0.00275</td><td>-0.000007</td><td>-0.000031</td><td>0.002061</td><td>0.001273</td><td>-0.000027</td><td>-0.000026</td><td>0.001423</td><td>0.002091</td><td>0.000436</td><td>0.000179</td><td>-0.000017</td><td>-0.000035</td><td>-0.000033</td><td>0.003169</td><td>0.00172</td><td>-6.5404e-7</td></tr><tr><td>0.004355</td><td>-0.000007</td><td>-0.000012</td><td>0.0003</td><td>0.00348</td><td>-0.000057</td><td>-0.000043</td><td>0.003235</td><td>0.001267</td><td>-0.000029</td><td>-0.000026</td><td>-0.000065</td><td>-0.000074</td><td>-0.000061</td><td>-0.000056</td><td>0.001683</td><td>-0.000033</td><td>0.000911</td><td>-0.000087</td><td>-0.000074</td><td>0.000568</td><td>-0.000024</td><td>0.003543</td><td>0.001085</td><td>0.003372</td><td>-0.000088</td><td>-0.000045</td><td>-0.000005</td><td>-0.000013</td><td>-0.000046</td><td>-0.000034</td><td>-0.000027</td><td>0.000752</td><td>-0.000046</td><td>-0.000012</td><td>0.005093</td><td>-0.000021</td><td>&hellip;</td><td>-0.000029</td><td>-0.00001</td><td>-0.000069</td><td>0.000428</td><td>0.000976</td><td>-0.00001</td><td>0.00414</td><td>0.002044</td><td>0.000598</td><td>0.001137</td><td>-0.000018</td><td>-0.000034</td><td>-0.000111</td><td>0.000584</td><td>-0.000052</td><td>0.000916</td><td>-0.000037</td><td>-0.000003</td><td>-0.000008</td><td>-0.000041</td><td>0.003932</td><td>-0.000012</td><td>-0.000022</td><td>0.002256</td><td>0.001784</td><td>-0.000046</td><td>-0.000041</td><td>0.001136</td><td>0.000838</td><td>-0.000002</td><td>0.000662</td><td>-0.000011</td><td>-0.000042</td><td>-0.000015</td><td>0.003423</td><td>0.001198</td><td>-0.000007</td></tr></tbody></table></div>"
      ],
      "text/plain": [
       "shape: (10_800, 128)\n",
       "┌──────────┬───────────┬───────────┬───────────┬───┬──────────┬──────────┬────────────┬────────────┐\n",
       "│ column_0 ┆ column_1  ┆ column_2  ┆ column_3  ┆ … ┆ column_1 ┆ column_1 ┆ column_126 ┆ column_127 │\n",
       "│ ---      ┆ ---       ┆ ---       ┆ ---       ┆   ┆ 24       ┆ 25       ┆ ---        ┆ ---        │\n",
       "│ f64      ┆ f64       ┆ f64       ┆ f64       ┆   ┆ ---      ┆ ---      ┆ f64        ┆ f64        │\n",
       "│          ┆           ┆           ┆           ┆   ┆ f64      ┆ f64      ┆            ┆            │\n",
       "╞══════════╪═══════════╪═══════════╪═══════════╪═══╪══════════╪══════════╪════════════╪════════════╡\n",
       "│ 0.006472 ┆ -0.000018 ┆ -0.000016 ┆ 0.00096   ┆ … ┆ -0.00003 ┆ 0.00436  ┆ 0.00197    ┆ 0.000142   │\n",
       "│          ┆           ┆           ┆           ┆   ┆ 3        ┆          ┆            ┆            │\n",
       "│ 0.005489 ┆ -0.000009 ┆ -0.00002  ┆ -0.000002 ┆ … ┆ -0.00001 ┆ 0.002883 ┆ 0.001838   ┆ -0.000035  │\n",
       "│          ┆           ┆           ┆           ┆   ┆ 7        ┆          ┆            ┆            │\n",
       "│ 0.005089 ┆ -0.000001 ┆ -0.000033 ┆ 0.001084  ┆ … ┆ -0.00000 ┆ 0.003786 ┆ 0.000918   ┆ -0.000018  │\n",
       "│          ┆           ┆           ┆           ┆   ┆ 9        ┆          ┆            ┆            │\n",
       "│ 0.005846 ┆ -0.000003 ┆ -0.000029 ┆ -0.000021 ┆ … ┆ -0.00003 ┆ 0.003557 ┆ 0.00215    ┆ -0.000014  │\n",
       "│          ┆           ┆           ┆           ┆   ┆ 2        ┆          ┆            ┆            │\n",
       "│ …        ┆ …         ┆ …         ┆ …         ┆ … ┆ …        ┆ …        ┆ …          ┆ …          │\n",
       "│ 0.00385  ┆ -0.000027 ┆ -0.000031 ┆ 0.000192  ┆ … ┆ -0.00001 ┆ 0.002599 ┆ 0.00163    ┆ -0.000014  │\n",
       "│          ┆           ┆           ┆           ┆   ┆ 5        ┆          ┆            ┆            │\n",
       "│ 0.005793 ┆ -0.000005 ┆ -0.000026 ┆ 0.000574  ┆ … ┆ -0.00001 ┆ 0.003169 ┆ 0.001161   ┆ -0.000017  │\n",
       "│          ┆           ┆           ┆           ┆   ┆ 5        ┆          ┆            ┆            │\n",
       "│ 0.004194 ┆ -0.000001 ┆ -0.000026 ┆ -0.000008 ┆ … ┆ -0.00003 ┆ 0.003169 ┆ 0.00172    ┆ -6.5404e-7 │\n",
       "│          ┆           ┆           ┆           ┆   ┆ 3        ┆          ┆            ┆            │\n",
       "│ 0.004355 ┆ -0.000007 ┆ -0.000012 ┆ 0.0003    ┆ … ┆ -0.00001 ┆ 0.003423 ┆ 0.001198   ┆ -0.000007  │\n",
       "│          ┆           ┆           ┆           ┆   ┆ 5        ┆          ┆            ┆            │\n",
       "└──────────┴───────────┴───────────┴───────────┴───┴──────────┴──────────┴────────────┴────────────┘"
      ]
     },
     "execution_count": 9,
     "metadata": {},
     "output_type": "execute_result"
    }
   ],
   "source": [
    "df_train = pl.read_csv(feature_csv_path)\n",
    "df_train.select([\n",
    "    pl.exclude([\"filename\", \"dirname\"])\n",
    "])"
   ]
  },
  {
   "cell_type": "code",
   "execution_count": null,
   "metadata": {},
   "outputs": [],
   "source": [
    "stds = StandardScaler()\n",
    "# df_train = pd.read_csv(feature_csv_pardir / 'check_data' / check_data_feature_csv_name)\n",
    "df_train = pl.read_csv(feature_csv_path)\n",
    "X_train = df_train.select([\n",
    "    pl.exclude([\"filename\", \"dirname\"])\n",
    "])\n",
    "X_train_std = stds.fit_transform(X_train)"
   ]
  },
  {
   "cell_type": "code",
   "execution_count": null,
   "metadata": {},
   "outputs": [],
   "source": [
    "pca = PCA(n_features)\n",
    "X_train_pca = pca.fit_transform(X_train_std)\n",
    "cumsum_contrb_rate = pca.explained_variance_ratio_.cumsum()\n",
    "\n",
    "plt.plot(range(n_features+1), [0]+list(cumsum_contrb_rate))\n",
    "plt.xlabel('Number of principal components')\n",
    "plt.ylabel('Cumulative contribution rate')\n",
    "plt.yticks(np.arange(0., 1.1, 0.1))\n",
    "plt.grid()\n",
    "plt.show()"
   ]
  }
 ],
 "metadata": {
  "kernelspec": {
   "display_name": ".venv",
   "language": "python",
   "name": "python3"
  },
  "language_info": {
   "codemirror_mode": {
    "name": "ipython",
    "version": 3
   },
   "file_extension": ".py",
   "mimetype": "text/x-python",
   "name": "python",
   "nbconvert_exporter": "python",
   "pygments_lexer": "ipython3",
   "version": "3.10.11"
  },
  "orig_nbformat": 4
 },
 "nbformat": 4,
 "nbformat_minor": 2
}
