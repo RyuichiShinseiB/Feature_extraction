{
 "cells": [
  {
   "cell_type": "code",
   "execution_count": 1,
   "metadata": {},
   "outputs": [],
   "source": [
    "from pathlib import Path\n",
    "\n",
    "import matplotlib.pyplot as plt\n",
    "import polars as pl\n",
    "from PIL import Image\n",
    "\n",
    "from src.configs.visualization_configs import FeatureDatetimeCfg\n",
    "from src.utilities import find_project_root\n",
    "from src.visualization import plot\n",
    "from src.visualization.image_utils import (\n",
    "    PasteLocation,\n",
    "    concat_images,\n",
    "    save_cated_images,\n",
    ")\n",
    "\n",
    "vector_img_ext = {\"svg\", \"pdf\"}\n",
    "raster_img_ext = {\"png\"}\n",
    "img_ext = vector_img_ext | raster_img_ext"
   ]
  },
  {
   "cell_type": "code",
   "execution_count": 2,
   "metadata": {},
   "outputs": [],
   "source": [
    "project_root = find_project_root()\n",
    "cfg64 = FeatureDatetimeCfg.from_datetime(2025, 1, 23, 16, 14, 36)\n",
    "checkdata64 = pl.read_csv(cfg64.feature_path / \"features_check_data.csv\")\n",
    "\n",
    "cfg32 = FeatureDatetimeCfg.from_datetime(2025, 1, 23, 16, 41, 16)\n",
    "checkdata32 = pl.read_csv(cfg32.feature_path / \"features_check_data.csv\")"
   ]
  },
  {
   "cell_type": "code",
   "execution_count": 3,
   "metadata": {},
   "outputs": [],
   "source": [
    "# 64x64px\n",
    "arr64 = checkdata64.select(\n",
    "    pl.exclude([\"target\", \"prediction\", \"filename\", \"dirname\"])\n",
    ").to_numpy()\n",
    "metacheckdata64 = checkdata64.select(\n",
    "    pl.exclude(r\"^column_\\d+$\")\n",
    ").with_row_count(\"id\")\n",
    "\n",
    "# 32x32px\n",
    "arr32 = checkdata32.select(\n",
    "    pl.exclude([\"target\", \"prediction\", \"filename\", \"dirname\"])\n",
    ").to_numpy()\n",
    "metacheckdata32 = checkdata32.select(\n",
    "    pl.exclude(r\"^column_\\d+$\")\n",
    ").with_row_count(\"id\")"
   ]
  },
  {
   "cell_type": "code",
   "execution_count": 4,
   "metadata": {},
   "outputs": [
    {
     "data": {
      "text/html": [
       "<div><style>\n",
       ".dataframe > thead > tr > th,\n",
       ".dataframe > tbody > tr > td {\n",
       "  text-align: right;\n",
       "}\n",
       "</style>\n",
       "<small>shape: (110, 5)</small><table border=\"1\" class=\"dataframe\"><thead><tr><th>id</th><th>target</th><th>prediction</th><th>dirname</th><th>filename</th></tr><tr><td>u32</td><td>i64</td><td>i64</td><td>i64</td><td>str</td></tr></thead><tbody><tr><td>3615</td><td>0</td><td>1</td><td>3</td><td>&quot;10k_3_h000_w04…</td></tr><tr><td>3616</td><td>0</td><td>1</td><td>3</td><td>&quot;10k_3_h000_w05…</td></tr><tr><td>3639</td><td>0</td><td>1</td><td>3</td><td>&quot;10k_3_h000_w12…</td></tr><tr><td>3651</td><td>0</td><td>1</td><td>3</td><td>&quot;10k_3_h032_w03…</td></tr><tr><td>3731</td><td>0</td><td>1</td><td>3</td><td>&quot;10k_3_h096_w03…</td></tr><tr><td>3735</td><td>0</td><td>1</td><td>3</td><td>&quot;10k_3_h096_w04…</td></tr><tr><td>3739</td><td>0</td><td>1</td><td>3</td><td>&quot;10k_3_h096_w06…</td></tr><tr><td>3748</td><td>0</td><td>1</td><td>3</td><td>&quot;10k_3_h096_w08…</td></tr><tr><td>3757</td><td>0</td><td>1</td><td>3</td><td>&quot;10k_3_h096_w11…</td></tr><tr><td>3760</td><td>0</td><td>1</td><td>3</td><td>&quot;10k_3_h128_w00…</td></tr><tr><td>3801</td><td>0</td><td>1</td><td>3</td><td>&quot;10k_3_h160_w00…</td></tr><tr><td>3819</td><td>0</td><td>1</td><td>3</td><td>&quot;10k_3_h160_w06…</td></tr><tr><td>&hellip;</td><td>&hellip;</td><td>&hellip;</td><td>&hellip;</td><td>&hellip;</td></tr><tr><td>9485</td><td>0</td><td>1</td><td>7</td><td>&quot;10k_7_h864_w01…</td></tr><tr><td>9511</td><td>0</td><td>1</td><td>7</td><td>&quot;10k_7_h864_w09…</td></tr><tr><td>9519</td><td>0</td><td>1</td><td>7</td><td>&quot;10k_7_h864_w12…</td></tr><tr><td>9534</td><td>0</td><td>1</td><td>7</td><td>&quot;10k_7_h896_w04…</td></tr><tr><td>9538</td><td>0</td><td>1</td><td>7</td><td>&quot;10k_7_h896_w05…</td></tr><tr><td>9546</td><td>0</td><td>1</td><td>7</td><td>&quot;10k_7_h896_w08…</td></tr><tr><td>9560</td><td>0</td><td>1</td><td>7</td><td>&quot;10k_7_h928_w00…</td></tr><tr><td>9565</td><td>0</td><td>1</td><td>7</td><td>&quot;10k_7_h928_w01…</td></tr><tr><td>9586</td><td>0</td><td>1</td><td>7</td><td>&quot;10k_7_h928_w08…</td></tr><tr><td>9589</td><td>0</td><td>1</td><td>7</td><td>&quot;10k_7_h928_w09…</td></tr><tr><td>9590</td><td>0</td><td>1</td><td>7</td><td>&quot;10k_7_h928_w09…</td></tr><tr><td>9599</td><td>0</td><td>1</td><td>7</td><td>&quot;10k_7_h928_w12…</td></tr></tbody></table></div>"
      ],
      "text/plain": [
       "shape: (110, 5)\n",
       "┌──────┬────────┬────────────┬─────────┬──────────────────────┐\n",
       "│ id   ┆ target ┆ prediction ┆ dirname ┆ filename             │\n",
       "│ ---  ┆ ---    ┆ ---        ┆ ---     ┆ ---                  │\n",
       "│ u32  ┆ i64    ┆ i64        ┆ i64     ┆ str                  │\n",
       "╞══════╪════════╪════════════╪═════════╪══════════════════════╡\n",
       "│ 3615 ┆ 0      ┆ 1          ┆ 3       ┆ 10k_3_h000_w0480.png │\n",
       "│ 3616 ┆ 0      ┆ 1          ┆ 3       ┆ 10k_3_h000_w0512.png │\n",
       "│ 3639 ┆ 0      ┆ 1          ┆ 3       ┆ 10k_3_h000_w1248.png │\n",
       "│ 3651 ┆ 0      ┆ 1          ┆ 3       ┆ 10k_3_h032_w0352.png │\n",
       "│ …    ┆ …      ┆ …          ┆ …       ┆ …                    │\n",
       "│ 9586 ┆ 0      ┆ 1          ┆ 7       ┆ 10k_7_h928_w0832.png │\n",
       "│ 9589 ┆ 0      ┆ 1          ┆ 7       ┆ 10k_7_h928_w0928.png │\n",
       "│ 9590 ┆ 0      ┆ 1          ┆ 7       ┆ 10k_7_h928_w0960.png │\n",
       "│ 9599 ┆ 0      ┆ 1          ┆ 7       ┆ 10k_7_h928_w1248.png │\n",
       "└──────┴────────┴────────────┴─────────┴──────────────────────┘"
      ]
     },
     "execution_count": 4,
     "metadata": {},
     "output_type": "execute_result"
    }
   ],
   "source": [
    "clsf_failed_expr = (\n",
    "    (pl.col(\"target\") != -1)\n",
    "    & (pl.col(\"target\") != pl.col(\"prediction\"))\n",
    "    & (pl.col(\"target\") == 0)\n",
    ")\n",
    "metacheckdata32.filter(clsf_failed_expr)"
   ]
  },
  {
   "cell_type": "code",
   "execution_count": 19,
   "metadata": {},
   "outputs": [],
   "source": [
    "# Fail to classify\n",
    "dst_dir = cfg32.figure_path.parent / \"thesis-ch4\" / \"cnt_images\"\n",
    "imsize64 = cfg64.extract_cfg.dataset.image_size\n",
    "dataset_dir64 = project_root / cfg64.extract_cfg.dataset.check_path\n",
    "imgs64 = concat_images(\n",
    "    metacheckdata64,\n",
    "    dataset_dir64,\n",
    "    imsize64,\n",
    "    filter_expr=(pl.col(\"target\") != -1)\n",
    "    & (pl.col(\"target\") == pl.col(\"prediction\")),\n",
    ")\n",
    "\n",
    "imsize32 = cfg32.extract_cfg.dataset.image_size\n",
    "dataset_dir32 = project_root / cfg32.extract_cfg.dataset.check_path\n",
    "imgs32 = concat_images(\n",
    "    metacheckdata32,\n",
    "    dataset_dir32,\n",
    "    imsize32,\n",
    "    filter_expr=(pl.col(\"target\") != -1)\n",
    "    & (pl.col(\"target\") == pl.col(\"prediction\")),\n",
    ")"
   ]
  },
  {
   "cell_type": "code",
   "execution_count": 20,
   "metadata": {},
   "outputs": [
    {
     "data": {
      "image/jpeg": "[encoded data removed]",
      "image/png": "[encoded data removed]",
      "text/plain": [
       "<PIL.Image.Image image mode=L size=104x104>"
      ]
     },
     "execution_count": 20,
     "metadata": {},
     "output_type": "execute_result"
    }
   ],
   "source": [
    "imgs32[0][7]"
   ]
  },
  {
   "cell_type": "code",
   "execution_count": 14,
   "metadata": {},
   "outputs": [
    {
     "data": {
      "text/plain": [
       "PosixPath('../reports/figures/ClassifierReflectance/thesis-ch4/cnt_images/32x32px')"
      ]
     },
     "execution_count": 14,
     "metadata": {},
     "output_type": "execute_result"
    }
   ],
   "source": [
    "dst_dir"
   ]
  },
  {
   "cell_type": "code",
   "execution_count": 22,
   "metadata": {},
   "outputs": [],
   "source": [
    "dst_dir = cfg64.figure_path.parent.parent / \"thesis-ch4\" / \"cnt_images\" / \"64x64px\"\n",
    "save_cated_images(\n",
    "    imgs64,\n",
    "    dst_dir,\n",
    "    fname_format=\"label_{t}_sample_{d}_clsfc_correct.jpg\",\n",
    "    target_format={0: \"low\", 1: \"high\"},\n",
    ")"
   ]
  },
  {
   "cell_type": "code",
   "execution_count": 25,
   "metadata": {},
   "outputs": [],
   "source": [
    "dst_dir = cfg32.figure_path.parent / \"thesis-ch4\" / \"cnt_images\"\n",
    "imsize64 = cfg64.extract_cfg.dataset.image_size\n",
    "dataset_dir64 = project_root / cfg64.extract_cfg.dataset.check_path\n",
    "imgs64_clsf_high = concat_images(\n",
    "    metacheckdata64,\n",
    "    dataset_dir64,\n",
    "    imsize64,\n",
    "    filter_expr=(pl.col(\"target\") == -1) & (pl.col(\"prediction\") == 1)\n",
    ")\n",
    "imgs64_clsf_low = concat_images(\n",
    "    metacheckdata64,\n",
    "    dataset_dir64,\n",
    "    imsize64,\n",
    "    filter_expr=(pl.col(\"target\") == -1) & (pl.col(\"prediction\") == 0)\n",
    ")\n",
    "\n",
    "imsize32 = cfg32.extract_cfg.dataset.image_size\n",
    "dataset_dir32 = project_root / cfg32.extract_cfg.dataset.check_path\n",
    "imgs32_clsf_high = concat_images(\n",
    "    metacheckdata32,\n",
    "    dataset_dir32,\n",
    "    imsize32,\n",
    "    filter_expr=(pl.col(\"target\") == -1) & (pl.col(\"prediction\") == 1)\n",
    ")\n",
    "imgs32_clsf_low = concat_images(\n",
    "    metacheckdata32,\n",
    "    dataset_dir32,\n",
    "    imsize32,\n",
    "    filter_expr=(pl.col(\"target\") == -1) & (pl.col(\"prediction\") == 0)\n",
    ")"
   ]
  },
  {
   "cell_type": "code",
   "execution_count": 26,
   "metadata": {},
   "outputs": [],
   "source": [
    "dst_dir = cfg64.figure_path.parent.parent / \"thesis-ch4\" / \"cnt_images\" / \"64x64px\"\n",
    "save_cated_images(\n",
    "    imgs64_clsf_high,\n",
    "    dst_dir,\n",
    "    fname_format=\"label_{t}_sample_{d}_clsfc_high.jpg\",\n",
    "    target_format={0: \"low\", 1: \"high\", -1: \"none\"},\n",
    ")\n",
    "save_cated_images(\n",
    "    imgs64_clsf_low,\n",
    "    dst_dir,\n",
    "    fname_format=\"label_{t}_sample_{d}_clsfc_low.jpg\",\n",
    "    target_format={0: \"low\", 1: \"high\", -1: \"none\"},\n",
    ")\n",
    "\n",
    "dst_dir = cfg32.figure_path.parent.parent / \"thesis-ch4\" / \"cnt_images\" / \"32x32px\"\n",
    "save_cated_images(\n",
    "    imgs32_clsf_high,\n",
    "    dst_dir,\n",
    "    fname_format=\"label_{t}_sample_{d}_clsfc_high.jpg\",\n",
    "    target_format={0: \"low\", 1: \"high\", -1: \"none\"},\n",
    ")\n",
    "save_cated_images(\n",
    "    imgs32_clsf_low,\n",
    "    dst_dir,\n",
    "    fname_format=\"label_{t}_sample_{d}_clsfc_low.jpg\",\n",
    "    target_format={0: \"low\", 1: \"high\", -1: \"none\"},\n",
    ")\n"
   ]
  },
  {
   "cell_type": "code",
   "execution_count": 9,
   "metadata": {},
   "outputs": [
    {
     "name": "stdout",
     "output_type": "stream",
     "text": [
      "shape: (110, 36)\n",
      "┌───────────┬───────────┬───────────┬──────────┬───┬────────┬────────────┬─────────┬───────────────┐\n",
      "│ column_0  ┆ column_1  ┆ column_2  ┆ column_3 ┆ … ┆ target ┆ prediction ┆ dirname ┆ filename      │\n",
      "│ ---       ┆ ---       ┆ ---       ┆ ---      ┆   ┆ ---    ┆ ---        ┆ ---     ┆ ---           │\n",
      "│ f64       ┆ f64       ┆ f64       ┆ f64      ┆   ┆ i64    ┆ i64        ┆ i64     ┆ str           │\n",
      "╞═══════════╪═══════════╪═══════════╪══════════╪═══╪════════╪════════════╪═════════╪═══════════════╡\n",
      "│ -0.018626 ┆ 0.213434  ┆ 0.420023  ┆ 0.000048 ┆ … ┆ 0      ┆ 1          ┆ 3       ┆ 10k_3_h000_w0 │\n",
      "│           ┆           ┆           ┆          ┆   ┆        ┆            ┆         ┆ 480.png       │\n",
      "│ -0.011462 ┆ 0.031903  ┆ 0.063482  ┆ 0.000034 ┆ … ┆ 0      ┆ 1          ┆ 3       ┆ 10k_3_h000_w0 │\n",
      "│           ┆           ┆           ┆          ┆   ┆        ┆            ┆         ┆ 512.png       │\n",
      "│ -0.012139 ┆ 0.049004  ┆ 0.097039  ┆ 0.000035 ┆ … ┆ 0      ┆ 1          ┆ 3       ┆ 10k_3_h000_w1 │\n",
      "│           ┆           ┆           ┆          ┆   ┆        ┆            ┆         ┆ 248.png       │\n",
      "│ -0.010445 ┆ -0.000849 ┆ -0.000774 ┆ 0.000032 ┆ … ┆ 0      ┆ 1          ┆ 3       ┆ 10k_3_h032_w0 │\n",
      "│           ┆           ┆           ┆          ┆   ┆        ┆            ┆         ┆ 352.png       │\n",
      "│ …         ┆ …         ┆ …         ┆ …        ┆ … ┆ …      ┆ …          ┆ …       ┆ …             │\n",
      "│ -0.025932 ┆ 0.418208  ┆ 0.822222  ┆ 0.000062 ┆ … ┆ 0      ┆ 1          ┆ 7       ┆ 10k_7_h928_w0 │\n",
      "│           ┆           ┆           ┆          ┆   ┆        ┆            ┆         ┆ 832.png       │\n",
      "│ -0.023634 ┆ 0.3527092 ┆ 0.6934704 ┆ 0.000058 ┆ … ┆ 0      ┆ 1          ┆ 7       ┆ 10k_7_h928_w0 │\n",
      "│           ┆           ┆           ┆          ┆   ┆        ┆            ┆         ┆ 928.png       │\n",
      "│ -0.015156 ┆ 0.12618   ┆ 0.248535  ┆ 0.000041 ┆ … ┆ 0      ┆ 1          ┆ 7       ┆ 10k_7_h928_w0 │\n",
      "│           ┆           ┆           ┆          ┆   ┆        ┆            ┆         ┆ 960.png       │\n",
      "│ -0.028897 ┆ 0.486453  ┆ 0.956165  ┆ 0.000069 ┆ … ┆ 0      ┆ 1          ┆ 7       ┆ 10k_7_h928_w1 │\n",
      "│           ┆           ┆           ┆          ┆   ┆        ┆            ┆         ┆ 248.png       │\n",
      "└───────────┴───────────┴───────────┴──────────┴───┴────────┴────────────┴─────────┴───────────────┘\n"
     ]
    }
   ],
   "source": [
    "l_low_c_high = checkdata32.filter(\n",
    "    (pl.col(\"target\") == 0)\n",
    "    & (pl.col(\"prediction\") == 1)\n",
    ")\n",
    "print(l_low_c_high)\n",
    "dataset_dir32 = project_root / cfg32.extract_cfg.dataset.check_path\n",
    "imgs = concat_images(l_low_c_high, dataset_dir32, cfg32.extract_cfg.dataset.image_size)"
   ]
  },
  {
   "cell_type": "code",
   "execution_count": 14,
   "metadata": {},
   "outputs": [
    {
     "data": {
      "image/jpeg": "[encoded data removed]",
      "image/png": "[encoded data removed]",
      "text/plain": [
       "<PIL.Image.Image image mode=L size=104x104>"
      ]
     },
     "execution_count": 14,
     "metadata": {},
     "output_type": "execute_result"
    }
   ],
   "source": [
    "imgs[0][3]"
   ]
  }
 ],
 "metadata": {
  "kernelspec": {
   "display_name": ".venv",
   "language": "python",
   "name": "python3"
  },
  "language_info": {
   "codemirror_mode": {
    "name": "ipython",
    "version": 3
   },
   "file_extension": ".py",
   "mimetype": "text/x-python",
   "name": "python",
   "nbconvert_exporter": "python",
   "pygments_lexer": "ipython3",
   "version": "3.10.11"
  }
 },
 "nbformat": 4,
 "nbformat_minor": 2
}
