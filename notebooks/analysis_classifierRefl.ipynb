{
 "cells": [
  {
   "cell_type": "code",
   "execution_count": 66,
   "metadata": {},
   "outputs": [],
   "source": [
    "import polars as pl\n",
    "from omegaconf import OmegaConf\n",
    "\n",
    "from src.utilities import find_project_root"
   ]
  },
  {
   "cell_type": "code",
   "execution_count": 67,
   "metadata": {},
   "outputs": [],
   "source": [
    "project_root = find_project_root()\n",
    "\n",
    "datetime = [\n",
    "    # date\n",
    "    [2024, 12, 20],\n",
    "    # time\n",
    "    [11, 18, 00],\n",
    "]\n",
    "date = \"-\".join((f\"{i:02}\" for i in datetime[0]))\n",
    "time = \"-\".join((f\"{i:02}\" for i in datetime[1]))\n",
    "\n",
    "csv_path = (\n",
    "    project_root\n",
    "    / \"reports\"\n",
    "    / \"features\"\n",
    "    / \"ClassifierReflectance\"\n",
    "    / date\n",
    "    / time\n",
    ")\n",
    "cfg = OmegaConf.load(csv_path / \".hydra/config.yaml\")"
   ]
  },
  {
   "cell_type": "code",
   "execution_count": 31,
   "metadata": {},
   "outputs": [
    {
     "name": "stdout",
     "output_type": "stream",
     "text": [
      "/home/shinsei/MyResearches/feat_extrc/reports/features/ClassifierReflectance/2024-12-20/11-18-00\n",
      "[PosixPath('/home/shinsei/MyResearches/feat_extrc/reports/features/ClassifierReflectance/2024-12-20/11-18-00')]\n"
     ]
    },
    {
     "data": {
      "text/plain": [
       "True"
      ]
     },
     "execution_count": 31,
     "metadata": {},
     "output_type": "execute_result"
    }
   ],
   "source": [
    "print(csv_path)\n",
    "print(list(csv_path.parent.iterdir()))\n",
    "csv_path.exists()"
   ]
  },
  {
   "cell_type": "code",
   "execution_count": 43,
   "metadata": {},
   "outputs": [
    {
     "data": {
      "text/html": [
       "<div><style>\n",
       ".dataframe > thead > tr > th,\n",
       ".dataframe > tbody > tr > td {\n",
       "  text-align: right;\n",
       "}\n",
       "</style>\n",
       "<small>shape: (7_200, 36)</small><table border=\"1\" class=\"dataframe\"><thead><tr><th>column_0</th><th>column_1</th><th>column_2</th><th>column_3</th><th>column_4</th><th>column_5</th><th>column_6</th><th>column_7</th><th>column_8</th><th>column_9</th><th>column_10</th><th>column_11</th><th>column_12</th><th>column_13</th><th>column_14</th><th>column_15</th><th>column_16</th><th>column_17</th><th>column_18</th><th>column_19</th><th>column_20</th><th>column_21</th><th>column_22</th><th>column_23</th><th>column_24</th><th>column_25</th><th>column_26</th><th>column_27</th><th>column_28</th><th>column_29</th><th>column_30</th><th>column_31</th><th>target</th><th>prediction</th><th>dirname</th><th>filename</th></tr><tr><td>f64</td><td>f64</td><td>f64</td><td>f64</td><td>f64</td><td>f64</td><td>f64</td><td>f64</td><td>f64</td><td>f64</td><td>f64</td><td>f64</td><td>f64</td><td>f64</td><td>f64</td><td>f64</td><td>f64</td><td>f64</td><td>f64</td><td>f64</td><td>f64</td><td>f64</td><td>f64</td><td>f64</td><td>f64</td><td>f64</td><td>f64</td><td>f64</td><td>f64</td><td>f64</td><td>f64</td><td>f64</td><td>i64</td><td>i64</td><td>i64</td><td>str</td></tr></thead><tbody><tr><td>-0.046268</td><td>0.054592</td><td>-0.041591</td><td>-1.228894</td><td>-1.290422</td><td>-0.067401</td><td>0.039068</td><td>-1.918401</td><td>-1.838542</td><td>-1.710984</td><td>0.055068</td><td>0.020493</td><td>-0.053506</td><td>0.054571</td><td>0.299959</td><td>-0.023875</td><td>-0.051314</td><td>0.027861</td><td>0.048626</td><td>-0.891681</td><td>-1.423253</td><td>0.043976</td><td>-1.901998</td><td>-0.00717</td><td>0.055137</td><td>-0.002293</td><td>-0.05102</td><td>0.035556</td><td>-0.063491</td><td>-0.04865</td><td>-0.049328</td><td>-0.053537</td><td>0</td><td>0</td><td>3</td><td>&quot;10k_3_h000_w00…</td></tr><tr><td>-0.023983</td><td>0.031178</td><td>-0.033927</td><td>-0.933908</td><td>-0.944822</td><td>-0.034344</td><td>0.018034</td><td>-1.398027</td><td>-1.374643</td><td>-1.304216</td><td>0.031339</td><td>0.025587</td><td>-0.030518</td><td>0.030419</td><td>0.226531</td><td>-0.006737</td><td>-0.028672</td><td>0.009566</td><td>0.026007</td><td>-0.679945</td><td>-1.087599</td><td>0.022336</td><td>-1.391321</td><td>-0.015222</td><td>0.033053</td><td>-0.008529</td><td>-0.028354</td><td>0.015291</td><td>-0.037257</td><td>-0.026106</td><td>-0.026739</td><td>-0.037437</td><td>0</td><td>0</td><td>3</td><td>&quot;10k_3_h000_w00…</td></tr><tr><td>-0.132207</td><td>0.141845</td><td>-0.076364</td><td>-3.039994</td><td>-3.256327</td><td>-0.195156</td><td>0.1225214</td><td>-4.905235</td><td>-4.73561</td><td>-4.321697</td><td>0.143351</td><td>0.01662</td><td>-0.139577</td><td>0.144563</td><td>0.7018597</td><td>-0.097554</td><td>-0.137027</td><td>0.104567</td><td>0.135038</td><td>-2.122927</td><td>-3.640405</td><td>0.128205</td><td>-4.868007</td><td>0.043543</td><td>0.137526</td><td>0.036652</td><td>-0.136899</td><td>0.117209</td><td>-0.15879</td><td>-0.134818</td><td>-0.135457</td><td>-0.11299</td><td>0</td><td>0</td><td>3</td><td>&quot;10k_3_h000_w00…</td></tr><tr><td>-0.002074</td><td>0.007586</td><td>-0.017435</td><td>-0.67372</td><td>-0.682094</td><td>-0.005548</td><td>-0.002076</td><td>-1.017705</td><td>-0.973552</td><td>-0.939652</td><td>0.007594</td><td>0.023005</td><td>-0.007188</td><td>0.006638</td><td>0.1773721</td><td>0.008809</td><td>-0.005736</td><td>-0.007271</td><td>0.003562</td><td>-0.497148</td><td>-0.778641</td><td>0.001026</td><td>-1.007586</td><td>-0.010214</td><td>0.009668</td><td>-0.012984</td><td>-0.005468</td><td>-0.003851</td><td>-0.01151</td><td>-0.00368</td><td>-0.004173</td><td>-0.017482</td><td>0</td><td>0</td><td>3</td><td>&quot;10k_3_h000_w00…</td></tr><tr><td>-0.151679</td><td>0.161419</td><td>-0.08532</td><td>-3.475654</td><td>-3.707442</td><td>-0.225153</td><td>0.1417101</td><td>-5.663592</td><td>-5.465346</td><td>-4.957856</td><td>0.163066</td><td>0.007437</td><td>-0.15898</td><td>0.164598</td><td>0.78948</td><td>-0.115733</td><td>-0.156395</td><td>0.123036</td><td>0.154564</td><td>-2.398564</td><td>-4.188815</td><td>0.147412</td><td>-5.618719</td><td>0.060906</td><td>0.156277</td><td>0.050917</td><td>-0.156301</td><td>0.136196</td><td>-0.17983</td><td>-0.154296</td><td>-0.154921</td><td>-0.126999</td><td>0</td><td>0</td><td>3</td><td>&quot;10k_3_h000_w01…</td></tr><tr><td>-0.038082</td><td>0.046204</td><td>-0.041146</td><td>-1.037937</td><td>-1.062173</td><td>-0.053285</td><td>0.031204</td><td>-1.582998</td><td>-1.531613</td><td>-1.439649</td><td>0.046506</td><td>0.021158</td><td>-0.045314</td><td>0.045753</td><td>0.253082</td><td>-0.017269</td><td>-0.043183</td><td>0.020869</td><td>0.040388</td><td>-0.756423</td><td>-1.193697</td><td>0.036039</td><td>-1.567517</td><td>-0.013462</td><td>0.047524</td><td>-0.004836</td><td>-0.042861</td><td>0.027927</td><td>-0.053739</td><td>-0.04044</td><td>-0.041127</td><td>-0.048763</td><td>0</td><td>0</td><td>3</td><td>&quot;10k_3_h000_w01…</td></tr><tr><td>-0.104319</td><td>0.113597</td><td>-0.067302</td><td>-2.465059</td><td>-2.611792</td><td>-0.15366</td><td>0.095468</td><td>-3.966304</td><td>-3.83213</td><td>-3.496198</td><td>0.114696</td><td>0.0150274</td><td>-0.111777</td><td>0.11525</td><td>0.572481</td><td>-0.074153</td><td>-0.109323</td><td>0.080008</td><td>0.107015</td><td>-1.720347</td><td>-2.944612</td><td>0.100927</td><td>-3.930194</td><td>0.029449</td><td>0.11117</td><td>0.026478</td><td>-0.109126</td><td>0.090804</td><td>-0.127688</td><td>-0.106887</td><td>-0.107555</td><td>-0.094784</td><td>0</td><td>0</td><td>3</td><td>&quot;10k_3_h000_w01…</td></tr><tr><td>-0.140286</td><td>0.150358</td><td>-0.081546</td><td>-3.156514</td><td>-3.374769</td><td>-0.206024</td><td>0.130037</td><td>-5.070954</td><td>-4.916175</td><td>-4.495833</td><td>0.151941</td><td>0.019148</td><td>-0.147993</td><td>0.1532221</td><td>0.7237281</td><td>-0.103409</td><td>-0.145353</td><td>0.110912</td><td>0.143269</td><td>-2.207557</td><td>-3.780224</td><td>0.136074</td><td>-5.034639</td><td>0.042714</td><td>0.145827</td><td>0.037839</td><td>-0.145219</td><td>0.124392</td><td>-0.168071</td><td>-0.143036</td><td>-0.143708</td><td>-0.119554</td><td>0</td><td>0</td><td>3</td><td>&quot;10k_3_h000_w02…</td></tr><tr><td>-0.077338</td><td>0.086328</td><td>-0.05566</td><td>-1.888766</td><td>-1.998134</td><td>-0.113534</td><td>0.069184</td><td>-3.017598</td><td>-2.898673</td><td>-2.6596</td><td>0.087135</td><td>0.016554</td><td>-0.084829</td><td>0.08719</td><td>0.447121</td><td>-0.050622</td><td>-0.082434</td><td>0.055627</td><td>0.079914</td><td>-1.33486</td><td>-2.230525</td><td>0.07443</td><td>-2.987274</td><td>0.01284</td><td>0.085298</td><td>0.013108</td><td>-0.082188</td><td>0.065029</td><td>-0.098071</td><td>-0.079851</td><td>-0.080532</td><td>-0.076063</td><td>0</td><td>0</td><td>3</td><td>&quot;10k_3_h000_w02…</td></tr><tr><td>-0.112067</td><td>0.121536</td><td>-0.071286</td><td>-2.5791</td><td>-2.739382</td><td>-0.164268</td><td>0.102946</td><td>-4.147563</td><td>-4.006916</td><td>-3.655096</td><td>0.122706</td><td>0.013849</td><td>-0.119624</td><td>0.123375</td><td>0.5963782</td><td>-0.080696</td><td>-0.117121</td><td>0.086836</td><td>0.114833</td><td>-1.801527</td><td>-3.079906</td><td>0.108527</td><td>-4.112579</td><td>0.031258</td><td>0.118794</td><td>0.030064</td><td>-0.116931</td><td>0.098105</td><td>-0.136215</td><td>-0.114682</td><td>-0.115356</td><td>-0.100783</td><td>0</td><td>0</td><td>3</td><td>&quot;10k_3_h000_w02…</td></tr><tr><td>-0.028</td><td>0.0354</td><td>-0.034889</td><td>-0.895995</td><td>-0.912971</td><td>-0.039448</td><td>0.021844</td><td>-1.34563</td><td>-1.307124</td><td>-1.240349</td><td>0.035612</td><td>0.021995</td><td>-0.034661</td><td>0.034785</td><td>0.2215969</td><td>-0.009789</td><td>-0.032729</td><td>0.012855</td><td>0.030088</td><td>-0.659229</td><td>-1.026469</td><td>0.026238</td><td>-1.334666</td><td>-0.014765</td><td>0.036992</td><td>-0.00765</td><td>-0.032419</td><td>0.018961</td><td>-0.041859</td><td>-0.03016</td><td>-0.030797</td><td>-0.040125</td><td>0</td><td>0</td><td>3</td><td>&quot;10k_3_h000_w03…</td></tr><tr><td>-0.047196</td><td>0.05515</td><td>-0.04631</td><td>-1.163662</td><td>-1.188135</td><td>-0.066047</td><td>0.040373</td><td>-1.79985</td><td>-1.755548</td><td>-1.617192</td><td>0.055461</td><td>0.015893</td><td>-0.054246</td><td>0.054815</td><td>0.2751103</td><td>-0.026449</td><td>-0.052168</td><td>0.03005</td><td>0.049474</td><td>-0.8275</td><td>-1.36216</td><td>0.045115</td><td>-1.783124</td><td>-0.00853</td><td>0.056246</td><td>0.003614</td><td>-0.05186</td><td>0.037105</td><td>-0.06289</td><td>-0.049509</td><td>-0.050179</td><td>-0.055619</td><td>0</td><td>0</td><td>3</td><td>&quot;10k_3_h000_w03…</td></tr><tr><td>&hellip;</td><td>&hellip;</td><td>&hellip;</td><td>&hellip;</td><td>&hellip;</td><td>&hellip;</td><td>&hellip;</td><td>&hellip;</td><td>&hellip;</td><td>&hellip;</td><td>&hellip;</td><td>&hellip;</td><td>&hellip;</td><td>&hellip;</td><td>&hellip;</td><td>&hellip;</td><td>&hellip;</td><td>&hellip;</td><td>&hellip;</td><td>&hellip;</td><td>&hellip;</td><td>&hellip;</td><td>&hellip;</td><td>&hellip;</td><td>&hellip;</td><td>&hellip;</td><td>&hellip;</td><td>&hellip;</td><td>&hellip;</td><td>&hellip;</td><td>&hellip;</td><td>&hellip;</td><td>&hellip;</td><td>&hellip;</td><td>&hellip;</td><td>&hellip;</td></tr><tr><td>0.151897</td><td>-0.155765</td><td>0.065324</td><td>1.1772181</td><td>1.3716271</td><td>0.207711</td><td>-0.14598</td><td>1.9566641</td><td>1.855849</td><td>1.5770969</td><td>-0.157444</td><td>0.022229</td><td>0.153639</td><td>-0.160324</td><td>-0.246733</td><td>0.123238</td><td>0.15239</td><td>-0.130383</td><td>-0.153278</td><td>0.8338112</td><td>1.3504595</td><td>-0.148626</td><td>1.9540787</td><td>-0.017452</td><td>-0.147326</td><td>-0.045421</td><td>0.152639</td><td>-0.141846</td><td>0.168201</td><td>0.152724</td><td>0.152774</td><td>0.107423</td><td>1</td><td>1</td><td>8</td><td>&quot;10k_8_h928_w08…</td></tr><tr><td>0.128725</td><td>-0.131342</td><td>0.055342</td><td>0.7472786</td><td>0.8831612</td><td>0.1738608</td><td>-0.124279</td><td>1.2569561</td><td>1.1899511</td><td>0.97183</td><td>-0.132664</td><td>0.027791</td><td>0.129665</td><td>-0.135151</td><td>-0.144831</td><td>0.106085</td><td>0.128745</td><td>-0.111878</td><td>-0.129737</td><td>0.52323</td><td>0.8425842</td><td>-0.126144</td><td>1.2470324</td><td>-0.013784</td><td>-0.12421</td><td>-0.041783</td><td>0.128979</td><td>-0.121043</td><td>0.140685</td><td>0.129235</td><td>0.129224</td><td>0.089624</td><td>1</td><td>1</td><td>8</td><td>&quot;10k_8_h928_w09…</td></tr><tr><td>0.226738</td><td>-0.232942</td><td>0.104177</td><td>2.6747928</td><td>2.9550226</td><td>0.314336</td><td>-0.217794</td><td>4.4634767</td><td>4.294762</td><td>3.753953</td><td>-0.235302</td><td>0.027905</td><td>0.229911</td><td>-0.239184</td><td>-0.5722</td><td>0.185738</td><td>0.228075</td><td>-0.195626</td><td>-0.228895</td><td>1.8441331</td><td>3.1711388</td><td>-0.221952</td><td>4.446223</td><td>-0.051608</td><td>-0.221616</td><td>-0.079649</td><td>0.228368</td><td>-0.211805</td><td>0.251987</td><td>0.228177</td><td>0.228337</td><td>0.165912</td><td>1</td><td>1</td><td>8</td><td>&quot;10k_8_h928_w09…</td></tr><tr><td>0.1575302</td><td>-0.161324</td><td>0.074049</td><td>1.2808208</td><td>1.449891</td><td>0.213544</td><td>-0.151663</td><td>2.1048765</td><td>2.0467253</td><td>1.7401915</td><td>-0.162876</td><td>0.026147</td><td>0.159339</td><td>-0.165593</td><td>-0.258624</td><td>0.1295235</td><td>0.158163</td><td>-0.136452</td><td>-0.158929</td><td>0.888689</td><td>1.4985595</td><td>-0.154357</td><td>2.104228</td><td>-0.020133</td><td>-0.153491</td><td>-0.053856</td><td>0.1583852</td><td>-0.147614</td><td>0.173136</td><td>0.158391</td><td>0.158463</td><td>0.114308</td><td>1</td><td>1</td><td>8</td><td>&quot;10k_8_h928_w09…</td></tr><tr><td>0.222263</td><td>-0.228533</td><td>0.100516</td><td>2.7650087</td><td>3.063073</td><td>0.3093078</td><td>-0.213338</td><td>4.612</td><td>4.417426</td><td>3.8723273</td><td>-0.23096</td><td>0.020874</td><td>0.2254358</td><td>-0.234875</td><td>-0.606426</td><td>0.181232</td><td>0.223551</td><td>-0.191145</td><td>-0.224395</td><td>1.9077975</td><td>3.2777915</td><td>-0.217453</td><td>4.5920887</td><td>-0.053391</td><td>-0.216983</td><td>-0.074384</td><td>0.2238541</td><td>-0.207346</td><td>0.247899</td><td>0.223688</td><td>0.22384</td><td>0.161917</td><td>1</td><td>1</td><td>8</td><td>&quot;10k_8_h928_w10…</td></tr><tr><td>0.238125</td><td>-0.245307</td><td>0.118491</td><td>2.8024967</td><td>3.062456</td><td>0.326614</td><td>-0.228241</td><td>4.6197753</td><td>4.4980445</td><td>3.9436924</td><td>-0.247622</td><td>0.025258</td><td>0.242262</td><td>-0.251309</td><td>-0.592359</td><td>0.194241</td><td>0.240214</td><td>-0.204645</td><td>-0.240608</td><td>1.929953</td><td>3.3310637</td><td>-0.233127</td><td>4.6041284</td><td>-0.045898</td><td>-0.234524</td><td>-0.083965</td><td>0.240449</td><td>-0.221805</td><td>0.2646914</td><td>0.239897</td><td>0.240161</td><td>0.179</td><td>1</td><td>1</td><td>8</td><td>&quot;10k_8_h928_w10…</td></tr><tr><td>0.206763</td><td>-0.21349</td><td>0.105243</td><td>2.1233528</td><td>2.3336892</td><td>0.2811527</td><td>-0.197665</td><td>3.4809163</td><td>3.3931515</td><td>2.9626653</td><td>-0.215482</td><td>0.02142</td><td>0.2108505</td><td>-0.218568</td><td>-0.436718</td><td>0.166854</td><td>0.2089634</td><td>-0.176265</td><td>-0.209082</td><td>1.4705089</td><td>2.498451</td><td>-0.202342</td><td>3.475757</td><td>-0.024232</td><td>-0.20439</td><td>-0.068155</td><td>0.209137</td><td>-0.19181</td><td>0.2303046</td><td>0.208474</td><td>0.208756</td><td>0.156476</td><td>1</td><td>1</td><td>8</td><td>&quot;10k_8_h928_w10…</td></tr><tr><td>0.232206</td><td>-0.238988</td><td>0.111898</td><td>2.742973</td><td>3.0144866</td><td>0.3199548</td><td>-0.222685</td><td>4.547742</td><td>4.4026937</td><td>3.8553073</td><td>-0.241331</td><td>0.024339</td><td>0.235953</td><td>-0.24507</td><td>-0.583862</td><td>0.189487</td><td>0.234015</td><td>-0.199672</td><td>-0.234549</td><td>1.8905835</td><td>3.254857</td><td>-0.227307</td><td>4.5337296</td><td>-0.046375</td><td>-0.228027</td><td>-0.080944</td><td>0.23427</td><td>-0.216427</td><td>0.2583184</td><td>0.233853</td><td>0.234079</td><td>0.17271</td><td>1</td><td>1</td><td>8</td><td>&quot;10k_8_h928_w11…</td></tr><tr><td>0.1264181</td><td>-0.12842</td><td>0.051817</td><td>0.789127</td><td>0.93585</td><td>0.171852</td><td>-0.122544</td><td>1.3408188</td><td>1.2673707</td><td>1.0346543</td><td>-0.129738</td><td>0.029113</td><td>0.126786</td><td>-0.132305</td><td>-0.153628</td><td>0.105659</td><td>0.126021</td><td>-0.111089</td><td>-0.127241</td><td>0.5462407</td><td>0.904919</td><td>-0.123977</td><td>1.3335317</td><td>-0.018288</td><td>-0.121116</td><td>-0.043886</td><td>0.126283</td><td>-0.119595</td><td>0.137426</td><td>0.126737</td><td>0.1266696</td><td>0.086454</td><td>1</td><td>1</td><td>8</td><td>&quot;10k_8_h928_w11…</td></tr><tr><td>0.2991425</td><td>-0.308533</td><td>0.145732</td><td>4.170533</td><td>4.5407786</td><td>0.4172101</td><td>-0.286437</td><td>6.931469</td><td>6.710967</td><td>5.9279795</td><td>-0.311586</td><td>0.024218</td><td>0.3045647</td><td>-0.316237</td><td>-0.899144</td><td>0.24376</td><td>0.301976</td><td>-0.256715</td><td>-0.302306</td><td>2.864615</td><td>4.9848895</td><td>-0.292709</td><td>6.901423</td><td>-0.076784</td><td>-0.294808</td><td>-0.107485</td><td>0.30226</td><td>-0.278267</td><td>0.33476</td><td>0.301477</td><td>0.301837</td><td>0.224953</td><td>1</td><td>1</td><td>8</td><td>&quot;10k_8_h928_w11…</td></tr><tr><td>0.222407</td><td>-0.228736</td><td>0.103567</td><td>2.5800421</td><td>2.8516095</td><td>0.307495</td><td>-0.213414</td><td>4.2933793</td><td>4.133871</td><td>3.616434</td><td>-0.231041</td><td>0.025698</td><td>0.225763</td><td>-0.234784</td><td>-0.550093</td><td>0.18152</td><td>0.2239084</td><td>-0.191341</td><td>-0.224597</td><td>1.7824022</td><td>3.0535722</td><td>-0.217677</td><td>4.2789474</td><td>-0.046058</td><td>-0.217783</td><td>-0.076585</td><td>0.22418</td><td>-0.207436</td><td>0.247449</td><td>0.223901</td><td>0.224084</td><td>0.163552</td><td>1</td><td>1</td><td>8</td><td>&quot;10k_8_h928_w12…</td></tr><tr><td>0.128643</td><td>-0.131634</td><td>0.062775</td><td>0.797796</td><td>0.912747</td><td>0.17111</td><td>-0.12381</td><td>1.2835923</td><td>1.2659523</td><td>1.0595689</td><td>-0.132832</td><td>0.0236568</td><td>0.130111</td><td>-0.134964</td><td>-0.149485</td><td>0.105468</td><td>0.12922</td><td>-0.111228</td><td>-0.1298</td><td>0.559339</td><td>0.9107641</td><td>-0.126123</td><td>1.2860748</td><td>-0.007622</td><td>-0.125548</td><td>-0.042754</td><td>0.1293877</td><td>-0.12047</td><td>0.140582</td><td>0.129363</td><td>0.129431</td><td>0.093524</td><td>1</td><td>1</td><td>8</td><td>&quot;10k_8_h928_w12…</td></tr></tbody></table></div>"
      ],
      "text/plain": [
       "shape: (7_200, 36)\n",
       "┌───────────┬───────────┬───────────┬───────────┬───┬────────┬────────────┬─────────┬──────────────┐\n",
       "│ column_0  ┆ column_1  ┆ column_2  ┆ column_3  ┆ … ┆ target ┆ prediction ┆ dirname ┆ filename     │\n",
       "│ ---       ┆ ---       ┆ ---       ┆ ---       ┆   ┆ ---    ┆ ---        ┆ ---     ┆ ---          │\n",
       "│ f64       ┆ f64       ┆ f64       ┆ f64       ┆   ┆ i64    ┆ i64        ┆ i64     ┆ str          │\n",
       "╞═══════════╪═══════════╪═══════════╪═══════════╪═══╪════════╪════════════╪═════════╪══════════════╡\n",
       "│ -0.046268 ┆ 0.054592  ┆ -0.041591 ┆ -1.228894 ┆ … ┆ 0      ┆ 0          ┆ 3       ┆ 10k_3_h000_w │\n",
       "│           ┆           ┆           ┆           ┆   ┆        ┆            ┆         ┆ 0000.png     │\n",
       "│ -0.023983 ┆ 0.031178  ┆ -0.033927 ┆ -0.933908 ┆ … ┆ 0      ┆ 0          ┆ 3       ┆ 10k_3_h000_w │\n",
       "│           ┆           ┆           ┆           ┆   ┆        ┆            ┆         ┆ 0032.png     │\n",
       "│ -0.132207 ┆ 0.141845  ┆ -0.076364 ┆ -3.039994 ┆ … ┆ 0      ┆ 0          ┆ 3       ┆ 10k_3_h000_w │\n",
       "│           ┆           ┆           ┆           ┆   ┆        ┆            ┆         ┆ 0064.png     │\n",
       "│ -0.002074 ┆ 0.007586  ┆ -0.017435 ┆ -0.67372  ┆ … ┆ 0      ┆ 0          ┆ 3       ┆ 10k_3_h000_w │\n",
       "│           ┆           ┆           ┆           ┆   ┆        ┆            ┆         ┆ 0096.png     │\n",
       "│ …         ┆ …         ┆ …         ┆ …         ┆ … ┆ …      ┆ …          ┆ …       ┆ …            │\n",
       "│ 0.1264181 ┆ -0.12842  ┆ 0.051817  ┆ 0.789127  ┆ … ┆ 1      ┆ 1          ┆ 8       ┆ 10k_8_h928_w │\n",
       "│           ┆           ┆           ┆           ┆   ┆        ┆            ┆         ┆ 1152.png     │\n",
       "│ 0.2991425 ┆ -0.308533 ┆ 0.145732  ┆ 4.170533  ┆ … ┆ 1      ┆ 1          ┆ 8       ┆ 10k_8_h928_w │\n",
       "│           ┆           ┆           ┆           ┆   ┆        ┆            ┆         ┆ 1184.png     │\n",
       "│ 0.222407  ┆ -0.228736 ┆ 0.103567  ┆ 2.5800421 ┆ … ┆ 1      ┆ 1          ┆ 8       ┆ 10k_8_h928_w │\n",
       "│           ┆           ┆           ┆           ┆   ┆        ┆            ┆         ┆ 1216.png     │\n",
       "│ 0.128643  ┆ -0.131634 ┆ 0.062775  ┆ 0.797796  ┆ … ┆ 1      ┆ 1          ┆ 8       ┆ 10k_8_h928_w │\n",
       "│           ┆           ┆           ┆           ┆   ┆        ┆            ┆         ┆ 1248.png     │\n",
       "└───────────┴───────────┴───────────┴───────────┴───┴────────┴────────────┴─────────┴──────────────┘"
      ]
     },
     "execution_count": 43,
     "metadata": {},
     "output_type": "execute_result"
    }
   ],
   "source": [
    "check_data = pl.read_csv(csv_path / \"features_check_data.csv\")\n",
    "check_data"
   ]
  },
  {
   "cell_type": "code",
   "execution_count": 42,
   "metadata": {},
   "outputs": [],
   "source": [
    "check_data_clsf_failes = check_data.filter(\n",
    "    pl.col(\"target\") != pl.col(\"prediction\")\n",
    ").select(pl.exclude(r\"^column_\\d+$\"))\n",
    "\n",
    "train_data = pl.read_csv(csv_path / \"features_train_data.csv\")\n",
    "train_data_clsf_failes = train_data.filter(\n",
    "    pl.col(\"target\") != pl.col(\"prediction\")\n",
    ").select(pl.exclude(r\"^column_\\d+$\"))"
   ]
  },
  {
   "cell_type": "code",
   "execution_count": 54,
   "metadata": {},
   "outputs": [
    {
     "data": {
      "text/html": [
       "<div><style>\n",
       ".dataframe > thead > tr > th,\n",
       ".dataframe > tbody > tr > td {\n",
       "  text-align: right;\n",
       "}\n",
       "</style>\n",
       "<small>shape: (6, 2)</small><table border=\"1\" class=\"dataframe\"><thead><tr><th>target</th><th>dirname</th></tr><tr><td>i64</td><td>i64</td></tr></thead><tbody><tr><td>0</td><td>3</td></tr><tr><td>0</td><td>5</td></tr><tr><td>0</td><td>7</td></tr><tr><td>1</td><td>4</td></tr><tr><td>1</td><td>6</td></tr><tr><td>1</td><td>8</td></tr></tbody></table></div>"
      ],
      "text/plain": [
       "shape: (6, 2)\n",
       "┌────────┬─────────┐\n",
       "│ target ┆ dirname │\n",
       "│ ---    ┆ ---     │\n",
       "│ i64    ┆ i64     │\n",
       "╞════════╪═════════╡\n",
       "│ 0      ┆ 3       │\n",
       "│ 0      ┆ 5       │\n",
       "│ 0      ┆ 7       │\n",
       "│ 1      ┆ 4       │\n",
       "│ 1      ┆ 6       │\n",
       "│ 1      ┆ 8       │\n",
       "└────────┴─────────┘"
      ]
     },
     "execution_count": 54,
     "metadata": {},
     "output_type": "execute_result"
    }
   ],
   "source": [
    "check_data.groupby(by=pl.col(\"target\")).agg(pl.col(\"dirname\").unique()).explode(\"dirname\")"
   ]
  },
  {
   "cell_type": "code",
   "execution_count": 52,
   "metadata": {},
   "outputs": [
    {
     "data": {
      "text/html": [
       "<div><style>\n",
       ".dataframe > thead > tr > th,\n",
       ".dataframe > tbody > tr > td {\n",
       "  text-align: right;\n",
       "}\n",
       "</style>\n",
       "<small>shape: (20, 4)</small><table border=\"1\" class=\"dataframe\"><thead><tr><th>target</th><th>prediction</th><th>dirname</th><th>filename</th></tr><tr><td>i64</td><td>i64</td><td>i64</td><td>str</td></tr></thead><tbody><tr><td>1</td><td>0</td><td>4</td><td>&quot;10k_4_h352_w09…</td></tr><tr><td>1</td><td>0</td><td>4</td><td>&quot;10k_4_h800_w12…</td></tr><tr><td>1</td><td>0</td><td>4</td><td>&quot;10k_4_h896_w12…</td></tr><tr><td>1</td><td>0</td><td>6</td><td>&quot;10k_6_h032_w04…</td></tr><tr><td>1</td><td>0</td><td>6</td><td>&quot;10k_6_h256_w00…</td></tr><tr><td>1</td><td>0</td><td>6</td><td>&quot;10k_6_h288_w06…</td></tr><tr><td>1</td><td>0</td><td>6</td><td>&quot;10k_6_h352_w10…</td></tr><tr><td>1</td><td>0</td><td>6</td><td>&quot;10k_6_h544_w01…</td></tr><tr><td>1</td><td>0</td><td>6</td><td>&quot;10k_6_h640_w02…</td></tr><tr><td>1</td><td>0</td><td>6</td><td>&quot;10k_6_h672_w01…</td></tr><tr><td>1</td><td>0</td><td>6</td><td>&quot;10k_6_h704_w06…</td></tr><tr><td>1</td><td>0</td><td>6</td><td>&quot;10k_6_h736_w01…</td></tr><tr><td>1</td><td>0</td><td>6</td><td>&quot;10k_6_h736_w09…</td></tr><tr><td>1</td><td>0</td><td>6</td><td>&quot;10k_6_h800_w07…</td></tr><tr><td>1</td><td>0</td><td>6</td><td>&quot;10k_6_h800_w08…</td></tr><tr><td>1</td><td>0</td><td>6</td><td>&quot;10k_6_h896_w02…</td></tr><tr><td>1</td><td>0</td><td>6</td><td>&quot;10k_6_h928_w07…</td></tr><tr><td>1</td><td>0</td><td>8</td><td>&quot;10k_8_h000_w07…</td></tr><tr><td>1</td><td>0</td><td>8</td><td>&quot;10k_8_h096_w00…</td></tr><tr><td>1</td><td>0</td><td>8</td><td>&quot;10k_8_h832_w00…</td></tr></tbody></table></div>"
      ],
      "text/plain": [
       "shape: (20, 4)\n",
       "┌────────┬────────────┬─────────┬──────────────────────┐\n",
       "│ target ┆ prediction ┆ dirname ┆ filename             │\n",
       "│ ---    ┆ ---        ┆ ---     ┆ ---                  │\n",
       "│ i64    ┆ i64        ┆ i64     ┆ str                  │\n",
       "╞════════╪════════════╪═════════╪══════════════════════╡\n",
       "│ 1      ┆ 0          ┆ 4       ┆ 10k_4_h352_w0928.png │\n",
       "│ 1      ┆ 0          ┆ 4       ┆ 10k_4_h800_w1248.png │\n",
       "│ 1      ┆ 0          ┆ 4       ┆ 10k_4_h896_w1248.png │\n",
       "│ 1      ┆ 0          ┆ 6       ┆ 10k_6_h032_w0480.png │\n",
       "│ …      ┆ …          ┆ …       ┆ …                    │\n",
       "│ 1      ┆ 0          ┆ 6       ┆ 10k_6_h928_w0704.png │\n",
       "│ 1      ┆ 0          ┆ 8       ┆ 10k_8_h000_w0704.png │\n",
       "│ 1      ┆ 0          ┆ 8       ┆ 10k_8_h096_w0064.png │\n",
       "│ 1      ┆ 0          ┆ 8       ┆ 10k_8_h832_w0096.png │\n",
       "└────────┴────────────┴─────────┴──────────────────────┘"
      ]
     },
     "execution_count": 52,
     "metadata": {},
     "output_type": "execute_result"
    }
   ],
   "source": [
    "check_data_clsf_failes.filter(pl.col(\"target\")==1)"
   ]
  },
  {
   "cell_type": "code",
   "execution_count": 71,
   "metadata": {},
   "outputs": [
    {
     "data": {
      "text/plain": [
       "{'image_size': 32, 'image_target': 'CNTForest', 'train_path': 'data/processed/CNTForest/cnt_sem_${dataset.image_size}x${dataset.image_size}/10k', 'check_path': 'data/processed/check/CNTForest/cnt_sem_for_check_${dataset.image_size}x${dataset.image_size}/10k', 'cls_conditions': {0: ['3', '5', '7'], 1: ['4', '6', '8']}, 'transform': {'Grayscale': 1, 'ToTensor': 0}}"
      ]
     },
     "execution_count": 71,
     "metadata": {},
     "output_type": "execute_result"
    }
   ],
   "source": [
    "cfg.dataset"
   ]
  },
  {
   "cell_type": "code",
   "execution_count": 85,
   "metadata": {},
   "outputs": [
    {
     "name": "stdout",
     "output_type": "stream",
     "text": [
      "True\n"
     ]
    }
   ],
   "source": [
    "from PIL import Image\n",
    "\n",
    "dataset_dir = (\n",
    "    project_root\n",
    "    / \"data\"\n",
    "    / \"processed\"\n",
    "    / \"CNTForest\"\n",
    "    / f\"cnt_sem_{cfg.dataset.image_size}x{cfg.dataset.image_size}\"\n",
    "    / \"10k\"\n",
    ")\n",
    "print(dataset_dir.exists())\n",
    "\n",
    "images: dict[int, list[Image.Image]] = {}\n",
    "\n",
    "unique_dirname = check_data_clsf_failes.filter(\n",
    "    pl.col(\"target\") == 0\n",
    ").select(\n",
    "    pl.col(\"dirname\")\n",
    ").unique(\"dirname\").to_series()\n",
    "for i in unique_dirname.sort():\n",
    "    paths = check_data_clsf_failes.filter(\n",
    "        pl.col(\"dirname\") == i\n",
    "    ).select(\n",
    "        (\n",
    "            pl.col(\"dirname\").cast(pl.Utf8) + pl.lit(\"/\") + pl.col(\"filename\")\n",
    "        ).alias(\"path\"),\n",
    "    ).to_series()\n",
    "    images[i] = [Image.open(dataset_dir / p).convert(\"L\") for p in paths]"
   ]
  },
  {
   "cell_type": "code",
   "execution_count": 83,
   "metadata": {},
   "outputs": [
    {
     "data": {
      "text/plain": [
       "{3: [<PIL.PngImagePlugin.PngImageFile image mode=RGB size=32x32>,\n",
       "  <PIL.PngImagePlugin.PngImageFile image mode=RGB size=32x32>,\n",
       "  <PIL.PngImagePlugin.PngImageFile image mode=RGB size=32x32>,\n",
       "  <PIL.PngImagePlugin.PngImageFile image mode=RGB size=32x32>,\n",
       "  <PIL.PngImagePlugin.PngImageFile image mode=RGB size=32x32>,\n",
       "  <PIL.PngImagePlugin.PngImageFile image mode=RGB size=32x32>,\n",
       "  <PIL.PngImagePlugin.PngImageFile image mode=RGB size=32x32>,\n",
       "  <PIL.PngImagePlugin.PngImageFile image mode=RGB size=32x32>],\n",
       " 5: [<PIL.PngImagePlugin.PngImageFile image mode=RGB size=32x32>,\n",
       "  <PIL.PngImagePlugin.PngImageFile image mode=RGB size=32x32>,\n",
       "  <PIL.PngImagePlugin.PngImageFile image mode=RGB size=32x32>],\n",
       " 7: [<PIL.PngImagePlugin.PngImageFile image mode=RGB size=32x32>,\n",
       "  <PIL.PngImagePlugin.PngImageFile image mode=RGB size=32x32>,\n",
       "  <PIL.PngImagePlugin.PngImageFile image mode=RGB size=32x32>,\n",
       "  <PIL.PngImagePlugin.PngImageFile image mode=RGB size=32x32>,\n",
       "  <PIL.PngImagePlugin.PngImageFile image mode=RGB size=32x32>,\n",
       "  <PIL.PngImagePlugin.PngImageFile image mode=RGB size=32x32>,\n",
       "  <PIL.PngImagePlugin.PngImageFile image mode=RGB size=32x32>,\n",
       "  <PIL.PngImagePlugin.PngImageFile image mode=RGB size=32x32>,\n",
       "  <PIL.PngImagePlugin.PngImageFile image mode=RGB size=32x32>,\n",
       "  <PIL.PngImagePlugin.PngImageFile image mode=RGB size=32x32>,\n",
       "  <PIL.PngImagePlugin.PngImageFile image mode=RGB size=32x32>,\n",
       "  <PIL.PngImagePlugin.PngImageFile image mode=RGB size=32x32>,\n",
       "  <PIL.PngImagePlugin.PngImageFile image mode=RGB size=32x32>,\n",
       "  <PIL.PngImagePlugin.PngImageFile image mode=RGB size=32x32>]}"
      ]
     },
     "execution_count": 83,
     "metadata": {},
     "output_type": "execute_result"
    }
   ],
   "source": [
    "images"
   ]
  }
 ],
 "metadata": {
  "language_info": {
   "name": "python"
  }
 },
 "nbformat": 4,
 "nbformat_minor": 2
}
