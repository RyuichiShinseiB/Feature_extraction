{
 "cells": [
  {
   "cell_type": "code",
   "execution_count": 11,
   "metadata": {},
   "outputs": [],
   "source": [
    "import os\n",
    "import shutil\n",
    "import polars as pl\n",
    "from pathlib import Path\n",
    "import numpy as np"
   ]
  },
  {
   "cell_type": "code",
   "execution_count": 2,
   "metadata": {},
   "outputs": [],
   "source": [
    "image_path = Path(\"../data/processed/CNTForest/cnt_sem_32x32/10k/\")\n",
    "copy_destination = Path(\"../reports/figures/VBGMM/2023-07-10/cluster_images/each\")"
   ]
  },
  {
   "cell_type": "code",
   "execution_count": 5,
   "metadata": {},
   "outputs": [],
   "source": [
    "df = pl.read_csv(\"../reports/features/SimpleCAE32/2023-07-10/13-09-32/feature_train_data_clustering.csv\")\n",
    "df = df.select([\"filepath\", \"cluster\"])"
   ]
  },
  {
   "cell_type": "code",
   "execution_count": 10,
   "metadata": {},
   "outputs": [
    {
     "name": "stdout",
     "output_type": "stream",
     "text": [
      "Cluster 0 images are copied.\n",
      "Cluster 1 images are copied.\n",
      "Cluster 2 images are copied.\n",
      "Cluster 3 images are copied.\n",
      "Cluster 4 images are copied.\n",
      "Cluster 5 images are copied.\n",
      "Cluster 6 images are copied.\n",
      "Cluster 7 images are copied.\n",
      "Cluster 8 images are copied.\n",
      "Cluster 9 images are copied.\n"
     ]
    }
   ],
   "source": [
    "for i in range(10):\n",
    "    print(f\"Cluster {i} images are copied.\")\n",
    "    cluster_filepath = df.filter(\n",
    "        pl.col(\"cluster\") == i\n",
    "    ).select(\"filepath\").sample(10).to_numpy().flatten()\n",
    "    copy_path = copy_destination / str(i)\n",
    "    if not copy_path.exists():\n",
    "        os.makedirs(copy_path)\n",
    "    for fp in cluster_filepath:\n",
    "        shutil.copy2(image_path / fp, copy_path)"
   ]
  },
  {
   "cell_type": "code",
   "execution_count": null,
   "metadata": {},
   "outputs": [],
   "source": []
  }
 ],
 "metadata": {
  "kernelspec": {
   "display_name": ".venv",
   "language": "python",
   "name": "python3"
  },
  "language_info": {
   "codemirror_mode": {
    "name": "ipython",
    "version": 3
   },
   "file_extension": ".py",
   "mimetype": "text/x-python",
   "name": "python",
   "nbconvert_exporter": "python",
   "pygments_lexer": "ipython3",
   "version": "3.10.11"
  },
  "orig_nbformat": 4
 },
 "nbformat": 4,
 "nbformat_minor": 2
}
