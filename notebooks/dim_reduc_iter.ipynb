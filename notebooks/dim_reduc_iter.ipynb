{
 "cells": [
  {
   "cell_type": "code",
   "execution_count": 1,
   "metadata": {},
   "outputs": [],
   "source": [
    "import numpy as np\n",
    "from sklearn.decomposition import PCA\n",
    "from sklearn.manifold import TSNE\n",
    "from sklearn.preprocessing import StandardScaler, MinMaxScaler\n",
    "from sklearn.model_selection import GridSearchCV\n",
    "import umap\n",
    "\n",
    "from src.dimensionality_reduction.dim_reduce import DimReduction\n"
   ]
  },
  {
   "cell_type": "code",
   "execution_count": 14,
   "metadata": {},
   "outputs": [
    {
     "data": {
      "text/plain": [
       "(array([ 2,  4,  8, 16, 32, 64]), array([1.e-07, 1.e-06, 1.e-05, 1.e-04]))"
      ]
     },
     "execution_count": 14,
     "metadata": {},
     "output_type": "execute_result"
    }
   ],
   "source": []
  },
  {
   "cell_type": "code",
   "execution_count": null,
   "metadata": {},
   "outputs": [],
   "source": [
    "perplexities = np.exp2(np.arange(1, 7)).astype(int)\n",
    "learning_rate = 10 ** -np.arange(3,7, dtype=np.float64)\n",
    "\n",
    "scaler = StandardScaler()\n",
    "reducter = TSNE(\n",
    "\n",
    ")\n",
    "\n",
    "tsne_reduce = DimReduction(reducter, scaler)\n"
   ]
  },
  {
   "cell_type": "code",
   "execution_count": null,
   "metadata": {},
   "outputs": [],
   "source": [
    "X_reducted = tsne_reduce.fit_transform()\n"
   ]
  },
  {
   "cell_type": "code",
   "execution_count": null,
   "metadata": {},
   "outputs": [],
   "source": [
    "n_neighbors = np.exp2(np.arange(1, 7)).astype(int)\n",
    "metrics = [\"euclidian\", ]\n",
    "\n",
    "reducer = umap.UMAP()\n",
    "umap_reduce = DimReduction\n"
   ]
  }
 ],
 "metadata": {
  "kernelspec": {
   "display_name": ".venv",
   "language": "python",
   "name": "python3"
  },
  "language_info": {
   "codemirror_mode": {
    "name": "ipython",
    "version": 3
   },
   "file_extension": ".py",
   "mimetype": "text/x-python",
   "name": "python",
   "nbconvert_exporter": "python",
   "pygments_lexer": "ipython3",
   "version": "3.10.11"
  }
 },
 "nbformat": 4,
 "nbformat_minor": 2
}
